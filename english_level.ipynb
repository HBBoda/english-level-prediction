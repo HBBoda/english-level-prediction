{
 "cells": [
  {
   "cell_type": "markdown",
   "id": "809d539f",
   "metadata": {},
   "source": [
    "# Прогнозирование уровня сложности фильмов на английском."
   ]
  },
  {
   "cell_type": "markdown",
   "id": "9f1b7157",
   "metadata": {},
   "source": [
    "**Цель работы**: разработать модель для прогнозирования уровня сложности фильмов на английском языке на основе файлов с субтитрами.\n",
    "\n",
    "**Ход работы:**\n",
    "\n",
    "- Сбор данные: Фильмы и их оценки уровня сложности представлены в файле \"movies_labels.xlsx\". Каждые субтитры представлены в отдельных файлах в формате SRT. Необходимо объединить данные в один датафрейм для последующего анализа.\n",
    "\n",
    "- Предобработка данных и исследовательский анализ: Проведем предобработку данных, включающую очистку текста от нежелательных символов, удаление стоп-слов, лемматизацию и т.д. Эти шаги помогут улучшить качество моделирования. Изучим распределение уровней сложности фильмов. Также в выборке слишком мало наблюдений, это может стать проблемой при обучении модели. В целевом признаке присутствуют смежные классы, которые необходимо обработать или преобразовать.\n",
    "\n",
    "- Обучение моделей: На предобработанных данных обучим модели случайного леса и градиентного бустинга с использованием библиотеки CatBoost, сравним их точность и выберем наиболее подходящую."
   ]
  },
  {
   "cell_type": "markdown",
   "id": "d4b76dfb",
   "metadata": {},
   "source": [
    "###  Выгрузка данных"
   ]
  },
  {
   "cell_type": "markdown",
   "id": "4497554f",
   "metadata": {},
   "source": [
    "Импортируем все необходимые для работы библиотеки."
   ]
  },
  {
   "cell_type": "code",
   "execution_count": 7,
   "id": "c36a8d99",
   "metadata": {},
   "outputs": [
    {
     "name": "stdout",
     "output_type": "stream",
     "text": [
      "Requirement already satisfied: Path in c:\\users\\banan\\anaconda3\\lib\\site-packages (16.6.0)\n"
     ]
    }
   ],
   "source": [
    "!pip install Path"
   ]
  },
  {
   "cell_type": "code",
   "execution_count": 8,
   "id": "cfa51b94",
   "metadata": {
    "scrolled": true
   },
   "outputs": [
    {
     "name": "stdout",
     "output_type": "stream",
     "text": [
      "Requirement already satisfied: pysrt in c:\\users\\banan\\anaconda3\\lib\\site-packages (1.1.2)\n",
      "Requirement already satisfied: chardet in c:\\users\\banan\\anaconda3\\lib\\site-packages (from pysrt) (4.0.0)\n"
     ]
    }
   ],
   "source": [
    "!pip install pysrt"
   ]
  },
  {
   "cell_type": "code",
   "execution_count": 9,
   "id": "4af4d464",
   "metadata": {
    "scrolled": true
   },
   "outputs": [
    {
     "name": "stdout",
     "output_type": "stream",
     "text": [
      "Requirement already satisfied: openpyxl in c:\\users\\banan\\anaconda3\\lib\\site-packages (3.0.10)\n",
      "Requirement already satisfied: et_xmlfile in c:\\users\\banan\\anaconda3\\lib\\site-packages (from openpyxl) (1.1.0)\n"
     ]
    }
   ],
   "source": [
    "!pip install openpyxl"
   ]
  },
  {
   "cell_type": "code",
   "execution_count": 10,
   "id": "6b8f8bd5",
   "metadata": {},
   "outputs": [
    {
     "name": "stdout",
     "output_type": "stream",
     "text": [
      "Requirement already satisfied: optuna in c:\\users\\banan\\anaconda3\\lib\\site-packages (3.1.0)\n",
      "Requirement already satisfied: packaging>=20.0 in c:\\users\\banan\\anaconda3\\lib\\site-packages (from optuna) (21.3)\n",
      "Requirement already satisfied: alembic>=1.5.0 in c:\\users\\banan\\anaconda3\\lib\\site-packages (from optuna) (1.10.2)\n",
      "Requirement already satisfied: PyYAML in c:\\users\\banan\\anaconda3\\lib\\site-packages (from optuna) (6.0)\n",
      "Requirement already satisfied: tqdm in c:\\users\\banan\\anaconda3\\lib\\site-packages (from optuna) (4.64.1)\n",
      "Requirement already satisfied: cmaes>=0.9.1 in c:\\users\\banan\\anaconda3\\lib\\site-packages (from optuna) (0.9.1)\n",
      "Requirement already satisfied: sqlalchemy>=1.3.0 in c:\\users\\banan\\anaconda3\\lib\\site-packages (from optuna) (1.4.39)\n",
      "Requirement already satisfied: numpy in c:\\users\\banan\\anaconda3\\lib\\site-packages (from optuna) (1.21.5)\n",
      "Requirement already satisfied: colorlog in c:\\users\\banan\\anaconda3\\lib\\site-packages (from optuna) (6.7.0)\n",
      "Requirement already satisfied: typing-extensions>=4 in c:\\users\\banan\\anaconda3\\lib\\site-packages (from alembic>=1.5.0->optuna) (4.3.0)\n",
      "Requirement already satisfied: Mako in c:\\users\\banan\\anaconda3\\lib\\site-packages (from alembic>=1.5.0->optuna) (1.2.4)\n",
      "Requirement already satisfied: pyparsing!=3.0.5,>=2.0.2 in c:\\users\\banan\\anaconda3\\lib\\site-packages (from packaging>=20.0->optuna) (3.0.9)\n",
      "Requirement already satisfied: greenlet!=0.4.17 in c:\\users\\banan\\anaconda3\\lib\\site-packages (from sqlalchemy>=1.3.0->optuna) (1.1.1)\n",
      "Requirement already satisfied: colorama in c:\\users\\banan\\anaconda3\\lib\\site-packages (from colorlog->optuna) (0.4.6)\n",
      "Requirement already satisfied: MarkupSafe>=0.9.2 in c:\\users\\banan\\anaconda3\\lib\\site-packages (from Mako->alembic>=1.5.0->optuna) (2.0.1)\n"
     ]
    }
   ],
   "source": [
    "!pip install optuna"
   ]
  },
  {
   "cell_type": "code",
   "execution_count": 7,
   "id": "5d8d15f2",
   "metadata": {},
   "outputs": [
    {
     "name": "stdout",
     "output_type": "stream",
     "text": [
      "Collecting catboost\n",
      "  Downloading catboost-1.2-cp39-cp39-win_amd64.whl (101.0 MB)\n",
      "     ------------------------------------ 101.0/101.0 MB 119.4 kB/s eta 0:00:00\n",
      "Requirement already satisfied: matplotlib in c:\\users\\banan\\anaconda3\\lib\\site-packages (from catboost) (3.5.2)\n",
      "Requirement already satisfied: pandas>=0.24 in c:\\users\\banan\\anaconda3\\lib\\site-packages (from catboost) (1.4.4)\n",
      "Requirement already satisfied: numpy>=1.16.0 in c:\\users\\banan\\anaconda3\\lib\\site-packages (from catboost) (1.21.5)\n",
      "Requirement already satisfied: scipy in c:\\users\\banan\\anaconda3\\lib\\site-packages (from catboost) (1.9.1)\n",
      "Requirement already satisfied: plotly in c:\\users\\banan\\anaconda3\\lib\\site-packages (from catboost) (5.9.0)\n",
      "Requirement already satisfied: six in c:\\users\\banan\\anaconda3\\lib\\site-packages (from catboost) (1.16.0)\n",
      "Collecting graphviz\n",
      "  Using cached graphviz-0.20.1-py3-none-any.whl (47 kB)\n",
      "Requirement already satisfied: pytz>=2020.1 in c:\\users\\banan\\anaconda3\\lib\\site-packages (from pandas>=0.24->catboost) (2022.1)\n",
      "Requirement already satisfied: python-dateutil>=2.8.1 in c:\\users\\banan\\anaconda3\\lib\\site-packages (from pandas>=0.24->catboost) (2.8.2)\n",
      "Requirement already satisfied: cycler>=0.10 in c:\\users\\banan\\anaconda3\\lib\\site-packages (from matplotlib->catboost) (0.11.0)\n",
      "Requirement already satisfied: packaging>=20.0 in c:\\users\\banan\\anaconda3\\lib\\site-packages (from matplotlib->catboost) (21.3)\n",
      "Requirement already satisfied: pillow>=6.2.0 in c:\\users\\banan\\anaconda3\\lib\\site-packages (from matplotlib->catboost) (9.2.0)\n",
      "Requirement already satisfied: fonttools>=4.22.0 in c:\\users\\banan\\anaconda3\\lib\\site-packages (from matplotlib->catboost) (4.25.0)\n",
      "Requirement already satisfied: kiwisolver>=1.0.1 in c:\\users\\banan\\anaconda3\\lib\\site-packages (from matplotlib->catboost) (1.4.2)\n",
      "Requirement already satisfied: pyparsing>=2.2.1 in c:\\users\\banan\\anaconda3\\lib\\site-packages (from matplotlib->catboost) (3.0.9)\n",
      "Requirement already satisfied: tenacity>=6.2.0 in c:\\users\\banan\\anaconda3\\lib\\site-packages (from plotly->catboost) (8.0.1)\n",
      "Installing collected packages: graphviz, catboost\n",
      "Successfully installed catboost-1.2 graphviz-0.20.1\n"
     ]
    }
   ],
   "source": [
    "!pip install catboost"
   ]
  },
  {
   "cell_type": "code",
   "execution_count": 2,
   "id": "f96a9ea3",
   "metadata": {
    "scrolled": true
   },
   "outputs": [],
   "source": [
    "import re\n",
    "import pandas as pd\n",
    "import nltk\n",
    "from nltk.corpus import stopwords\n",
    "from nltk.stem import WordNetLemmatizer\n",
    "from sklearn.feature_extraction.text import TfidfVectorizer\n",
    "import difflib\n",
    "from pathlib import Path\n",
    "import pysrt\n",
    "from nltk.tokenize import word_tokenize\n",
    "from nltk.tokenize import RegexpTokenizer\n",
    "\n",
    "from catboost import CatBoostClassifier, Pool, cv\n",
    "from sklearn.model_selection import train_test_split\n",
    "from sklearn.ensemble import RandomForestClassifier\n",
    "import optuna\n",
    "from sklearn.metrics import balanced_accuracy_score, accuracy_score, ConfusionMatrixDisplay, confusion_matrix\n",
    "import matplotlib.pyplot as plt\n",
    "import optuna\n",
    "from sklearn.model_selection import cross_val_score"
   ]
  },
  {
   "cell_type": "code",
   "execution_count": 3,
   "id": "1202c932",
   "metadata": {},
   "outputs": [
    {
     "name": "stderr",
     "output_type": "stream",
     "text": [
      "[nltk_data] Downloading package stopwords to\n",
      "[nltk_data]     C:\\Users\\banan\\AppData\\Roaming\\nltk_data...\n",
      "[nltk_data]   Package stopwords is already up-to-date!\n",
      "[nltk_data] Downloading package punkt to\n",
      "[nltk_data]     C:\\Users\\banan\\AppData\\Roaming\\nltk_data...\n",
      "[nltk_data]   Package punkt is already up-to-date!\n",
      "[nltk_data] Downloading package wordnet to\n",
      "[nltk_data]     C:\\Users\\banan\\AppData\\Roaming\\nltk_data...\n",
      "[nltk_data]   Package wordnet is already up-to-date!\n"
     ]
    },
    {
     "data": {
      "text/plain": [
       "True"
      ]
     },
     "execution_count": 3,
     "metadata": {},
     "output_type": "execute_result"
    }
   ],
   "source": [
    "nltk.download('stopwords')\n",
    "nltk.download('punkt')\n",
    "nltk.download(\"wordnet\")"
   ]
  },
  {
   "cell_type": "markdown",
   "id": "4a676937",
   "metadata": {},
   "source": [
    "Считаем файл с данными, сохраним в переменной df и выведем общую информацию."
   ]
  },
  {
   "cell_type": "code",
   "execution_count": 3,
   "id": "b97740fa",
   "metadata": {},
   "outputs": [],
   "source": [
    "df = pd.read_excel('movies_labels.xlsx', index_col=0)"
   ]
  },
  {
   "cell_type": "code",
   "execution_count": 4,
   "id": "a1e71078",
   "metadata": {},
   "outputs": [
    {
     "data": {
      "text/html": [
       "<div>\n",
       "<style scoped>\n",
       "    .dataframe tbody tr th:only-of-type {\n",
       "        vertical-align: middle;\n",
       "    }\n",
       "\n",
       "    .dataframe tbody tr th {\n",
       "        vertical-align: top;\n",
       "    }\n",
       "\n",
       "    .dataframe thead th {\n",
       "        text-align: right;\n",
       "    }\n",
       "</style>\n",
       "<table border=\"1\" class=\"dataframe\">\n",
       "  <thead>\n",
       "    <tr style=\"text-align: right;\">\n",
       "      <th></th>\n",
       "      <th>Movie</th>\n",
       "      <th>Level</th>\n",
       "    </tr>\n",
       "    <tr>\n",
       "      <th>id</th>\n",
       "      <th></th>\n",
       "      <th></th>\n",
       "    </tr>\n",
       "  </thead>\n",
       "  <tbody>\n",
       "    <tr>\n",
       "      <th>0</th>\n",
       "      <td>10_Cloverfield_lane(2016)</td>\n",
       "      <td>B1</td>\n",
       "    </tr>\n",
       "    <tr>\n",
       "      <th>1</th>\n",
       "      <td>10_things_I_hate_about_you(1999)</td>\n",
       "      <td>B1</td>\n",
       "    </tr>\n",
       "    <tr>\n",
       "      <th>2</th>\n",
       "      <td>A_knights_tale(2001)</td>\n",
       "      <td>B2</td>\n",
       "    </tr>\n",
       "    <tr>\n",
       "      <th>3</th>\n",
       "      <td>A_star_is_born(2018)</td>\n",
       "      <td>B2</td>\n",
       "    </tr>\n",
       "    <tr>\n",
       "      <th>4</th>\n",
       "      <td>Aladdin(1992)</td>\n",
       "      <td>A2/A2+</td>\n",
       "    </tr>\n",
       "    <tr>\n",
       "      <th>5</th>\n",
       "      <td>All_dogs_go_to_heaven(1989)</td>\n",
       "      <td>A2/A2+</td>\n",
       "    </tr>\n",
       "    <tr>\n",
       "      <th>6</th>\n",
       "      <td>An_American_tail(1986)</td>\n",
       "      <td>A2/A2+</td>\n",
       "    </tr>\n",
       "    <tr>\n",
       "      <th>7</th>\n",
       "      <td>Babe(1995)</td>\n",
       "      <td>A2/A2+</td>\n",
       "    </tr>\n",
       "    <tr>\n",
       "      <th>8</th>\n",
       "      <td>Back_to_the_future(1985)</td>\n",
       "      <td>A2/A2+</td>\n",
       "    </tr>\n",
       "    <tr>\n",
       "      <th>9</th>\n",
       "      <td>Banking_On_Bitcoin(2016)</td>\n",
       "      <td>C1</td>\n",
       "    </tr>\n",
       "    <tr>\n",
       "      <th>10</th>\n",
       "      <td>Batman_begins(2005)</td>\n",
       "      <td>A2/A2+</td>\n",
       "    </tr>\n",
       "    <tr>\n",
       "      <th>11</th>\n",
       "      <td>Beauty_and_the_beast(2017)</td>\n",
       "      <td>B2</td>\n",
       "    </tr>\n",
       "    <tr>\n",
       "      <th>12</th>\n",
       "      <td>Before_I_go_to_sleep(2014)</td>\n",
       "      <td>B2</td>\n",
       "    </tr>\n",
       "    <tr>\n",
       "      <th>13</th>\n",
       "      <td>Before_sunrise(1995)</td>\n",
       "      <td>B1, B2</td>\n",
       "    </tr>\n",
       "    <tr>\n",
       "      <th>14</th>\n",
       "      <td>Before_sunset(2004)</td>\n",
       "      <td>B1, B2</td>\n",
       "    </tr>\n",
       "  </tbody>\n",
       "</table>\n",
       "</div>"
      ],
      "text/plain": [
       "                               Movie   Level\n",
       "id                                          \n",
       "0          10_Cloverfield_lane(2016)      B1\n",
       "1   10_things_I_hate_about_you(1999)      B1\n",
       "2               A_knights_tale(2001)      B2\n",
       "3               A_star_is_born(2018)      B2\n",
       "4                      Aladdin(1992)  A2/A2+\n",
       "5        All_dogs_go_to_heaven(1989)  A2/A2+\n",
       "6             An_American_tail(1986)  A2/A2+\n",
       "7                         Babe(1995)  A2/A2+\n",
       "8           Back_to_the_future(1985)  A2/A2+\n",
       "9           Banking_On_Bitcoin(2016)      C1\n",
       "10               Batman_begins(2005)  A2/A2+\n",
       "11        Beauty_and_the_beast(2017)      B2\n",
       "12        Before_I_go_to_sleep(2014)      B2\n",
       "13              Before_sunrise(1995)  B1, B2\n",
       "14               Before_sunset(2004)  B1, B2"
      ]
     },
     "execution_count": 4,
     "metadata": {},
     "output_type": "execute_result"
    }
   ],
   "source": [
    "df.head(15)"
   ]
  },
  {
   "cell_type": "code",
   "execution_count": 5,
   "id": "9ead9be1",
   "metadata": {},
   "outputs": [
    {
     "name": "stdout",
     "output_type": "stream",
     "text": [
      "<class 'pandas.core.frame.DataFrame'>\n",
      "Int64Index: 241 entries, 0 to 240\n",
      "Data columns (total 2 columns):\n",
      " #   Column  Non-Null Count  Dtype \n",
      "---  ------  --------------  ----- \n",
      " 0   Movie   241 non-null    object\n",
      " 1   Level   241 non-null    object\n",
      "dtypes: object(2)\n",
      "memory usage: 5.6+ KB\n"
     ]
    }
   ],
   "source": [
    "df.info()"
   ]
  },
  {
   "cell_type": "markdown",
   "id": "b10b0725",
   "metadata": {},
   "source": [
    "Датафрейм содержит 241 фильм."
   ]
  },
  {
   "cell_type": "markdown",
   "id": "4e08c6f4",
   "metadata": {},
   "source": [
    "Добавим субтитры в датафрейм. Для чтения файлов с субтитрами в формате SRT воспользуемся библиотекой pysrt. Для нахождения соответствий между фильмами и субтитрами по названиям, воспользуемся методом `get_close_matches` из библиотеки `difflib`."
   ]
  },
  {
   "cell_type": "code",
   "execution_count": 6,
   "id": "0d7a6456",
   "metadata": {},
   "outputs": [],
   "source": [
    "path = Path('Subtitles_all/Subtitles')"
   ]
  },
  {
   "cell_type": "code",
   "execution_count": 7,
   "id": "1d581fda",
   "metadata": {
    "code_folding": []
   },
   "outputs": [],
   "source": [
    "for index, row in df.iterrows():\n",
    "    movie_title = row['Movie']\n",
    "    \n",
    "    closest_match = difflib.get_close_matches(movie_title, [subtitle_file.stem for subtitle_file in path.glob('*.srt')], n=1)\n",
    "    \n",
    "    if closest_match:\n",
    "        subtitle_name = closest_match[0]\n",
    "        subtitle_file = path / (subtitle_name + '.srt')\n",
    "        \n",
    "        subtitles = pysrt.open(subtitle_file, encoding='latin1')\n",
    "        \n",
    "        subtitle_text = ' '.join([subtitle.text for subtitle in subtitles])\n",
    "        \n",
    "        df.at[index, 'Subtitles'] = subtitle_text\n",
    "    else:\n",
    "        df.at[index, 'Subtitles'] = None"
   ]
  },
  {
   "cell_type": "markdown",
   "id": "ecd554ff",
   "metadata": {},
   "source": [
    "Выведем первые 15 строк полученного датафрейма и проверим, нет ли пропущенных значений. "
   ]
  },
  {
   "cell_type": "code",
   "execution_count": 8,
   "id": "4337a732",
   "metadata": {},
   "outputs": [
    {
     "data": {
      "text/html": [
       "<div>\n",
       "<style scoped>\n",
       "    .dataframe tbody tr th:only-of-type {\n",
       "        vertical-align: middle;\n",
       "    }\n",
       "\n",
       "    .dataframe tbody tr th {\n",
       "        vertical-align: top;\n",
       "    }\n",
       "\n",
       "    .dataframe thead th {\n",
       "        text-align: right;\n",
       "    }\n",
       "</style>\n",
       "<table border=\"1\" class=\"dataframe\">\n",
       "  <thead>\n",
       "    <tr style=\"text-align: right;\">\n",
       "      <th></th>\n",
       "      <th>Movie</th>\n",
       "      <th>Level</th>\n",
       "      <th>Subtitles</th>\n",
       "    </tr>\n",
       "    <tr>\n",
       "      <th>id</th>\n",
       "      <th></th>\n",
       "      <th></th>\n",
       "      <th></th>\n",
       "    </tr>\n",
       "  </thead>\n",
       "  <tbody>\n",
       "    <tr>\n",
       "      <th>0</th>\n",
       "      <td>10_Cloverfield_lane(2016)</td>\n",
       "      <td>B1</td>\n",
       "      <td>&lt;font color=\"#ffff80\"&gt;&lt;b&gt;Fixed &amp; Synced by boz...</td>\n",
       "    </tr>\n",
       "    <tr>\n",
       "      <th>1</th>\n",
       "      <td>10_things_I_hate_about_you(1999)</td>\n",
       "      <td>B1</td>\n",
       "      <td>Hey! I'll be right with you. So, Cameron. Here...</td>\n",
       "    </tr>\n",
       "    <tr>\n",
       "      <th>2</th>\n",
       "      <td>A_knights_tale(2001)</td>\n",
       "      <td>B2</td>\n",
       "      <td>Resync: Xenzai[NEF]\\nRETAIL Should we help him...</td>\n",
       "    </tr>\n",
       "    <tr>\n",
       "      <th>3</th>\n",
       "      <td>A_star_is_born(2018)</td>\n",
       "      <td>B2</td>\n",
       "      <td>- &lt;i&gt;&lt;font color=\"#ffffff\"&gt; Synced and correct...</td>\n",
       "    </tr>\n",
       "    <tr>\n",
       "      <th>4</th>\n",
       "      <td>Aladdin(1992)</td>\n",
       "      <td>A2/A2+</td>\n",
       "      <td>&lt;i&gt;Oh, I come from a land\\nFrom a faraway plac...</td>\n",
       "    </tr>\n",
       "    <tr>\n",
       "      <th>5</th>\n",
       "      <td>All_dogs_go_to_heaven(1989)</td>\n",
       "      <td>A2/A2+</td>\n",
       "      <td>CAPTIONING MADE POSSIBLE BY\\nMGM HOME ENTERTAI...</td>\n",
       "    </tr>\n",
       "    <tr>\n",
       "      <th>6</th>\n",
       "      <td>An_American_tail(1986)</td>\n",
       "      <td>A2/A2+</td>\n",
       "      <td>(INDISTINCT CONVERSATION) (ALL LAUGHING) MAMA:...</td>\n",
       "    </tr>\n",
       "    <tr>\n",
       "      <th>7</th>\n",
       "      <td>Babe(1995)</td>\n",
       "      <td>A2/A2+</td>\n",
       "      <td>This is a tale about&lt;br/&gt;an unprejudiced heart...</td>\n",
       "    </tr>\n",
       "    <tr>\n",
       "      <th>8</th>\n",
       "      <td>Back_to_the_future(1985)</td>\n",
       "      <td>A2/A2+</td>\n",
       "      <td>October is inventory time, so right now, Statl...</td>\n",
       "    </tr>\n",
       "    <tr>\n",
       "      <th>9</th>\n",
       "      <td>Banking_On_Bitcoin(2016)</td>\n",
       "      <td>C1</td>\n",
       "      <td>Downloaded from\\nYTS.MX Official YIFY movies s...</td>\n",
       "    </tr>\n",
       "    <tr>\n",
       "      <th>10</th>\n",
       "      <td>Batman_begins(2005)</td>\n",
       "      <td>A2/A2+</td>\n",
       "      <td>Rachel, let me see. - Can I see?\\n- Finders ke...</td>\n",
       "    </tr>\n",
       "    <tr>\n",
       "      <th>11</th>\n",
       "      <td>Beauty_and_the_beast(2017)</td>\n",
       "      <td>B2</td>\n",
       "      <td>Once upon a time,\\nin the hidden heart of Fran...</td>\n",
       "    </tr>\n",
       "    <tr>\n",
       "      <th>12</th>\n",
       "      <td>Before_I_go_to_sleep(2014)</td>\n",
       "      <td>B2</td>\n",
       "      <td>Who are you? l'm your husband. Ben. What? We g...</td>\n",
       "    </tr>\n",
       "    <tr>\n",
       "      <th>13</th>\n",
       "      <td>Before_sunrise(1995)</td>\n",
       "      <td>B1, B2</td>\n",
       "      <td>&lt;b&gt;Resync By&lt;br/&gt;Lututkanan@subscene&lt;/b&gt; Do yo...</td>\n",
       "    </tr>\n",
       "    <tr>\n",
       "      <th>14</th>\n",
       "      <td>Before_sunset(2004)</td>\n",
       "      <td>B1, B2</td>\n",
       "      <td>Created and Encoded by --  Bokutox -- of  www....</td>\n",
       "    </tr>\n",
       "  </tbody>\n",
       "</table>\n",
       "</div>"
      ],
      "text/plain": [
       "                               Movie   Level  \\\n",
       "id                                             \n",
       "0          10_Cloverfield_lane(2016)      B1   \n",
       "1   10_things_I_hate_about_you(1999)      B1   \n",
       "2               A_knights_tale(2001)      B2   \n",
       "3               A_star_is_born(2018)      B2   \n",
       "4                      Aladdin(1992)  A2/A2+   \n",
       "5        All_dogs_go_to_heaven(1989)  A2/A2+   \n",
       "6             An_American_tail(1986)  A2/A2+   \n",
       "7                         Babe(1995)  A2/A2+   \n",
       "8           Back_to_the_future(1985)  A2/A2+   \n",
       "9           Banking_On_Bitcoin(2016)      C1   \n",
       "10               Batman_begins(2005)  A2/A2+   \n",
       "11        Beauty_and_the_beast(2017)      B2   \n",
       "12        Before_I_go_to_sleep(2014)      B2   \n",
       "13              Before_sunrise(1995)  B1, B2   \n",
       "14               Before_sunset(2004)  B1, B2   \n",
       "\n",
       "                                            Subtitles  \n",
       "id                                                     \n",
       "0   <font color=\"#ffff80\"><b>Fixed & Synced by boz...  \n",
       "1   Hey! I'll be right with you. So, Cameron. Here...  \n",
       "2   Resync: Xenzai[NEF]\\nRETAIL Should we help him...  \n",
       "3   - <i><font color=\"#ffffff\"> Synced and correct...  \n",
       "4   <i>Oh, I come from a land\\nFrom a faraway plac...  \n",
       "5   CAPTIONING MADE POSSIBLE BY\\nMGM HOME ENTERTAI...  \n",
       "6   (INDISTINCT CONVERSATION) (ALL LAUGHING) MAMA:...  \n",
       "7   This is a tale about<br/>an unprejudiced heart...  \n",
       "8   October is inventory time, so right now, Statl...  \n",
       "9   Downloaded from\\nYTS.MX Official YIFY movies s...  \n",
       "10  Rachel, let me see. - Can I see?\\n- Finders ke...  \n",
       "11  Once upon a time,\\nin the hidden heart of Fran...  \n",
       "12  Who are you? l'm your husband. Ben. What? We g...  \n",
       "13  <b>Resync By<br/>Lututkanan@subscene</b> Do yo...  \n",
       "14  Created and Encoded by --  Bokutox -- of  www....  "
      ]
     },
     "execution_count": 8,
     "metadata": {},
     "output_type": "execute_result"
    }
   ],
   "source": [
    "df.head(15)"
   ]
  },
  {
   "cell_type": "code",
   "execution_count": 9,
   "id": "3e705c38",
   "metadata": {},
   "outputs": [
    {
     "data": {
      "text/plain": [
       "0"
      ]
     },
     "execution_count": 9,
     "metadata": {},
     "output_type": "execute_result"
    }
   ],
   "source": [
    "df['Subtitles'].isna().sum()"
   ]
  },
  {
   "cell_type": "markdown",
   "id": "4be2c74e",
   "metadata": {},
   "source": [
    "Все субтитры загружены в датафрейм, перейдем к предобработке и исследовательскому анализу."
   ]
  },
  {
   "cell_type": "markdown",
   "id": "71c4a53c",
   "metadata": {},
   "source": [
    "### Предобработка и исследовательский анализ данных"
   ]
  },
  {
   "cell_type": "markdown",
   "id": "0861a920",
   "metadata": {},
   "source": [
    "Рассмотрим отдельно взятый субтитр."
   ]
  },
  {
   "cell_type": "code",
   "execution_count": 10,
   "id": "2acc0c1a",
   "metadata": {},
   "outputs": [
    {
     "data": {
      "text/plain": [
       "'<font color=\"#ffff80\"><b>Fixed & Synced by bozxphd. Enjoy The Flick</b></font> (CLANGING) (DRAWER CLOSES) (INAUDIBLE) (CELL PHONE RINGING) BEN ON PHONE: <i>Michelle,<br/>please don\\'t hang up.</i> <i>Just talk to me, okay?<br/>I can\\'t believe you just left.</i> <i>Michelle.</i> <i>Come back.</i> <i>Please say something.</i> <i>Michelle, talk to me.</i> <i>Look, we had an argument.<br/>Couples fight.</i> <i>That is no reason<br/>to just leave everything behind.</i> <i>Running away isn\\'t gonna help it any.<br/>Michelle, please...</i> (DIALTONE) NEWSCASTER: More details on that. <i>Elsewhere today,<br/>power has still not been restored</i> <i>to many cities on the southern seaboard</i> <i>in the wake of<br/>this afternoon\\'s widespread blackout.</i> <i>While there had been<br/>some inclement weather in the region,</i> <i>the problem seems linked to<br/>what authorities are calling</i> <i>a catastrophic power surge<br/>that has crippled traffic in the area.</i> - (LOUD CRASH)<br/>- (GRUNTS) - (TIRES SCREECHING)<br/>- (SCREAMS) - (GLASS SHATTERING)<br/>- (GASPING) (GROANS) (HORN HONKING) (INHALES DEEPLY) (SNIFFS) (SIGHS) (GASPING) (CHAINS RATTLING) (BREATHING HEAVILY) (GRUNTING) (GROANING) (GROANING) (GRUNTING) (SOBS) No. (CHAIN JANGLING) No! (SOBBING) (BREATHING HEAVILY) Damn. (CLATTERS) (GRUNTS) (RUMBLING) (FOOTSTEPS APPROACHING) (PANTING) (GASPS) (DOOR CREAKING) Okay. Okay, please. Please. Please don\\'t hurt me. (BREATHING HEAVILY) Please. Just let me go, okay?<br/>I won\\'t tell anybody. I promise, okay?<br/>Please just let me go. Please. MAN: You need fluids.<br/>You were in shock. What are you going to do to me? I\\'m going to keep you alive. Work on getting handy with these. My boyfriend was expecting me. He\\'ll send the cops looking. I\\'m sorry. But no one is looking for you. (CLANGS) (GRUNTS) (GROANS SOFTLY) (GRUNTS) (EXHALES) (SCRAPING) (BREATHING HEAVILY) (SIGHS) (COUGHING) (FIRE ALARM BEEPING) (RAPID FOOTSTEPS APPROACHING) (DOOR OPENS) - (GASPS)<br/>- (GRUNTS) (SCREAMING) (MAN CLEARS THROAT) (GASPS) You\\'ve got some fight in you. I can respect that. But don\\'t even think<br/>about trying that again. You\\'re lucky to be here at all. And my generosity only extends so far. Eggs. Toradol to help with your pain. Please. Please, just let me go. Please. There is nowhere to go, Michelle. I looked through your wallet. Given as how I saved your life,<br/>I think that\\'s acceptable. You\\'re lucky to be here at all. What do you mean? I found you, and I saved your life<br/>by bringing you here. I don\\'t understand. I... (SIGHING) There\\'s been an attack. What? An attack. A big one. I\\'m not sure yet<br/>if it\\'s chemical or nuclear, but down here, we\\'re safe. - And where are we exactly?<br/>- Underneath my farmhouse. Forty miles outside of Lake Charles. I was driving north of here. You were in an accident. You were turned over<br/>on the side of the road. I was driving by and I saw... I saved your life, Michelle. I couldn\\'t just leave you there. (SOFTLY) Okay. Well, thank you so much for saving my life. I guess I should go to a hospital now. You can\\'t leave. An attack means fallout. Which contaminates<br/>the air above ground. (STUTTERS) That\\'s how it works. How long do we have to wait<br/>until it\\'s safe? Depends on the proximity<br/>of the closest blast. One year, maybe two. (HOWARD SIGHS) And that\\'s if we\\'re talking<br/>about weapons that we know of. Russians are developing<br/>some nasty stuff. And if the Martians<br/>finally figured out a way to get here, their weapons will make<br/>the Russkies\\' look like sticks and stones. Luckily, I\\'ve prepared for this. (SOFTLY) Right. Well, I\\'ll need to use your phone then to call my family<br/>and tell them that I\\'m safe here and make sure they\\'re okay. Michelle, they\\'re not okay. (HOWARD SIGHS) How do you know that? Everyone outside of here is dead. But what about you?<br/>Don\\'t you have a family? (OBJECTS CLATTERING) Who\\'s that? Excuse me. HOWARD: (SHOUTS) What did you do? (LOUD THUDDING) (INDISTINCT SHOUTING) (GASPS) You know what, Michelle?<br/>I\\'m gonna tell you what I told him. You need to eat, you need to sleep, and you need to start<br/>showing me a little bit of appreciation. My name is Howard, by the way. (DOOR CREAKING) (DOOR LOCKS) (VEHICLE ENGINE STARTS) (VEHICLE DRIVES AWAY) (MUSIC PLAYING IN DISTANCE) - (CLATTERS)<br/>- (GASPS) Oh, God! Oh, shit. I\\'m sorry. (CHUCKLES) (GROANS SOFTLY) I\\'m sorry about that. Uh, I didn\\'t mean to scare you. Are you, um... Here. You hungry? So, how are you doing? You okay? - What is this?<br/>- It\\'s a bunker. Your room\\'s a little bit of a fixer-upper,<br/>but at least you got a door. A scary door, but you still got a door. How long have you been down here? Couple of days, I think. You know,<br/>it\\'s actually kind of hard to tell with no windows or sunlight<br/>or anything. (CHUCKLES) (WHISPERS) I mean,<br/>how do we get out of here? Oh, he didn\\'t tell you? About... Getting out of here<br/>is the last thing you want to do. Because the air up there, it\\'s contaminated. HOWARD: I see you\\'ve met Emmett. What happened to him? He did that to himself. And his stumbling around<br/>isn\\'t helping anything. What you heard earlier, was him knocking over a shelf<br/>with a whole week\\'s worth of food, which he\\'s sorry for, correct? Totally. Let\\'s go. Bathroom time. (MUSIC CONTINUES PLAYING) HOWARD: This is the common area. Good for R & R. As you can see,<br/>I\\'ve planned for a long stay. The aquaponics system<br/>cleans the air and keeps it fresh. This is the living room.<br/>Help yourself to any reading. If you like to watch films,<br/>I have some on DVD and VHS cassette. Just make sure you put them back<br/>in their sleeve when they\\'re done. The kitchen\\'s fully functional. Has an electric stove,<br/>refrigerator, freezer, silverware. And that table\\'s a family heirloom, which means watch your glasses. Always use coasters and placemats. Keep your hands to yourself! Understand? No touching. Take a seat. This way. This is my private space. Off-limits, unless<br/>I give express permission. Go ahead. - I don\\'t need to.<br/>- You will, though. And I\\'ve got to pace<br/>these things out, so please. I need privacy. You\\'re welcome to close the curtain. I can\\'t with you standing there. And I can\\'t trust you<br/>not to burn this place down. This is for my own safety. I\\'m not some pervert! Just go. (SIGHING) HOWARD: Don\\'t flush<br/>unless you\\'ve gone! We can\\'t afford wasted flushes. Take a seat. Are you hungry? - Those are Megan\\'s.<br/>- (VESSELS CLANG) She never went anywhere<br/>without two or three of those things. Who\\'s Megan? Megan\\'s not with us anymore. (FAINT WHIRRING) Don\\'t worry. Just the generator. Maybe it\\'s a car outside. (SCOFFS) That\\'s not possible. I heard one earlier. Above my room. If you had heard a car,<br/>the driver would be long dead by now. Well, shouldn\\'t we at least try to call the police or someone<br/>to find out what actually happened? There\\'s no one left to call. See that? Nothing\\'s coming through. (HOWARD EXHALES DEEPLY) You think I sound crazy. I mean, it\\'s amazing. You people... You wear helmets<br/>when you ride your bikes. You have seat belts in your cars. You have alarm systems<br/>to protect your homes. But what do you do<br/>when those alarms go off? \"Crazy\" is building your ark<br/>after the flood has already come! I think maybe it\\'s time<br/>you met Frank and Mildred. (KEYS JANGLING) Closest I could get to an airlock. - (GASPING)<br/>- See? What happened to them? They weren\\'t as lucky as you. It\\'s the air, Michelle. That\\'s what happens<br/>when you get exposed. (CELL PHONE RINGING) (TIRES SQUEALING) (CRASHING) I keep this door sealed at all times. No one comes in or out. EMMETT: Met Frank and Mildred, huh? It\\'s funny, right? The whole world ends and the thing he\\'s most upset about<br/>is a pair of dead pigs? You in need of some reading material? I took all the quizzes. Sorry. But I did learn<br/>how to do a French braid, so, you know, if you want me<br/>to do that for you, just let me know. What do you know about him? He was in the Navy, I know that. I guess he did, uh,<br/>some stuff with satellites. What kind of stuff? Satellite stuff. Well, what brought him out here? I\\'m not sure. He bought this property a while back. But I never paid much attention till he hired me to help him<br/>get this place set up. The work was entertaining, though,<br/>that\\'s for sure. (CHUCKLES) You know, Howard\\'s like a black belt<br/>in conspiracy theory. Plus, you know, how often<br/>do you get hired to help build a doomsday bunker? So, he didn\\'t kidnap you? (SCOFFS) No! What about your arm?<br/>Weren\\'t you trying to escape? I was trying to get in. I watched Howard build this place,<br/>piece by piece, for years. He was always talking about, you know, possible attacks from. Al Qaeda, Russia, South Korea. You mean North Korea. (STUTTERS) Is that the crazy one? So, yeah, that one. And, uh, you know,<br/>poured all his money into this place. Took to it like his life depended on it. Which, you know, that stays with you. So... (GRUNTS SOFTLY) He told you all this while you\\'re building his bomb shelter. And now he says that the air is contaminated<br/>and everybody\\'s dead. Yeah, I know what you\\'re getting at,<br/>but there\\'s more to it. Howard abducted me. He drove me off the road<br/>and he dragged me here. So, whatever he\\'s telling you<br/>about the air, some big attack, the purpose of this shelter, is a lie. No. No way. The attack, I saw it myself. What do you mean? I was on my way home from work. And it looked like a flash. Bright red. Like an explosion, from way far off. It wasn\\'t like fireworks. Naw, this was more like<br/>something you\\'d read about in the Bible. So, what, you saw, what,<br/>a flash of light? Lightning? A fire that flared up? I\\'m not explaining it right. This wasn\\'t like anything I\\'d ever seen. And so, my first thought<br/>was to come here. And when I got here,<br/>Howard was closing the door. And I could see it,<br/>right there on his face, he knew something was happening. Something bad. And so, I fought my way in. I heard a car. Right here. Above us. You heard someone? Right above us. That isn\\'t possible. - The air is...<br/>- What, contaminated? - How do you know that?<br/>- Because I told him. Dinner\\'s ready. I see you two are getting along. Hmm. How\\'s that sauce? It\\'s fine. As cooks go, I\\'m okay. Not great, but okay. Megan was a good cook. You\\'ll learn to love cooking. Mmm... EMMETT: Mmm. It\\'s delicious. That\\'s the best sauce I\\'ve ever tasted. Are you being funny? No, I mean, considering the alternative,<br/>which is, you know, getting burnt up in a chemical attack,<br/>or nuclear, I\\'d say being alive and down here would make a fried turd taste pretty good, so... Best damn sauce I ever had. That\\'s not a bad point. And, please,<br/>watch your language at table. Right? You know what I haven\\'t been able to<br/>get out of my head, for some reason? Ever since I got down here. Tattoos. Always wanted one. But I never got any.<br/>\\'Cause everybody always said, \"No, no, Emmett, you\\'ll never get<br/>a decent job if you do that.\" Whatever. Like that matters now, right? T ell you what,<br/>if I had known this was coming, I would\\'ve gotten, like,<br/>50 of them. I swear, man. I would look like a circus freak,<br/>or something. I\\'d just be covered head to toe. Tattoos all over my...<br/>You know, everywhere. Face? Sure. Right there. Across my forehead. Just my name. \"Emmett.\" Or, you know, - \"Thug Life.\"<br/>- (CHUCKLES) \"YOLO.\" I don\\'t even know what that means, but, you know,<br/>I hear people saying it all the time, so, it must be cool. (CHUCKLES) Hey, what about you, Howard? Anything you wish you\\'d done? In all honesty, no. No? No crazy nights in Vegas? Maybe, uh, take a pilgrimage to Waco? Everything I wanted to do, I did. I focused on being prepared. And I was. And here we are. EMMETT: Oh, my goodness. Is that Monopoly? There we go! Yeah, that\\'s how we kill the time. What would you say, Howard,<br/>we\\'re gonna be down here, what, like, a year? Two? Maybe? I bet you if we started a game right now, we might even<br/>get halfway finished by the time... Stop talking! (BREATHES DEEPLY) You don\\'t need to make jokes about<br/>how long we\\'re going to be down here when nobody knows<br/>how long that\\'s going to be. Your humor is not funny. I don\\'t appreciate it<br/>while I\\'m trying to eat, and neither does Michelle. Now, please shut up<br/>and let us eat in peace. Hmm. Emmett? Would you pass me a napkin? Thank you. I know what you\\'re saying.<br/>I never could finish <i>Monopoly.</i> That game really<br/>does take forever, right? For me, though, it was, um... <i>Chutes and Ladders,</i> uh... <i>Sorry!,</i> and <i>Trouble.</i> You know, the thing with the dice<br/>and the thing that you pressed, - what was that called?<br/>- The... BOTH: Pop-O-Matic bubble! Yeah. Did you ever play that, um...<br/>What was that, <i>Operation?</i> - Loved <i>Operation!</i><br/>- I\\'m telling you, man, I couldn\\'t play that game. - It terrified me.<br/>- Why... That noise that thing would make<br/>when you hit that edge. I mean... - Good Lord!<br/>- (CHUCKLING) It was pretty scary. Could you hand me the salt? Please? Ah, shoot! I\\'m sorry. I\\'m gonna need the pepper also. What exactly do you think you\\'re doing? I\\'m asking for pepper. Like hell you were! What was that? I don\\'t know what you\\'re<br/>talking about, Howard. Are you trying to insult me? Here, in the shelter that I built<br/>that\\'s keeping you alive? You don\\'t think I see what you just did? Is that how you thank me<br/>for saving your life? - Howard, calm down.<br/>- Shut up! Shut up and stay in your seat! Is it? Now, let me tell you, I know what a traitor looks like. Understand? I have shown you nothing,<br/>but generosity and hospitality. I want you to apologize. To tell me you\\'re going to behave. I will. You will what? I\\'ll behave. And I\\'m so sorry. HOWARD: Sit. (HOWARD SIGHING) Ah... Have to stay hydrated. Hmm. That\\'s easy to forget down here. What\\'s wrong? (SOFTLY) Nothing. Where are my keys? (RUMBLING) (SCREAMS) (BREATHING HEAVILY) - Michelle!<br/>- (GRUNTS) (GROANS) (PANTING) Michelle! Stop! Give me those keys! MICHELLE: Come on.<br/>HOWARD: No! Don\\'t! (MICHELLE PANTING) Stop! No! No, don\\'t! Don\\'t! Don\\'t open that door! (PANTING) There\\'s a car! - There\\'s a car! I see a car!<br/>- HOWARD: No! Here! Here! Here! HOWARD: Michelle,<br/>listen to me, don\\'t do this! - (THUD)<br/>- (GASPS) Oh, God! Thank God! - There\\'s a woman.<br/>- WOMAN: Open the door! (STUTTERING) It\\'s okay.<br/>I just want to come inside. She looks hurt.<br/>She wants me to let her in. Do not let her in! - Look at her face, Michelle!<br/>- No! No, no, no! No! Oh, my God, I\\'m fine. I really am fine. - No, please, I\\'m okay.<br/>- There\\'s... It really only...<br/>It only touched me a little. A little! So, could you open the door? Open it! - She\\'s begging me.<br/>- You can\\'t help her! No one can! Let me in. I\\'ll be okay. I\\'ll be okay.<br/>It really hardly touched me at all. - Open the door!<br/>- HOWARD: Don\\'t listen to her! God! Open the door, you bitch! Let me in! Let me in! Let me in! Let me in! Let me in! You! You! You! You! You! (POUNDING ON DOOR) (WHIMPERS) (GRUNTS) (KEYS JANGLING) (DOOR OPENING) (GRUNTS) I know it\\'s hard, realizing they\\'re all gone. The ones you love. I have something to confess to you. (GULPS) I crashed into your car. Your accident was my fault. When I found out about<br/>the incoming attack, I got frantic. I knew I needed to get back here<br/>as soon as possible, so I was driving like a maniac. (SIGHS) I tried to pass you, and I\\'m the reason you went off the road. I mean, I know I seem<br/>like a sensible guy, but at the time, I wasn\\'t myself. It was an accident, but it was my fault. I was afraid to tell you, and, I\\'m sorry. Um... You should shower. Even the smallest amount of air that came through the hinges<br/>could be toxic. These were Megan\\'s. If you want. I recognized that woman\\'s car. Her name was Leslie, I think. You knew her? She was a neighbor. Emmett wasn\\'t the only one<br/>who knew about this place. If any others somehow survived,<br/>they could be coming here, too. (GRUNTS SOFTLY) As of Friday, kindness and generosity<br/>are antiquated customs. I\\'m going to need some stitches. What? You want me to... This is your doing, isn\\'t it? I mean, I don\\'t think I\\'m really qualified. I\\'ll walk you through it. Here. Have a drink. What is it? Technically, it\\'s vodka. (SLURPING) Ah! It\\'s safe. I distilled it myself. (SLURPS AND COUGHS) I just said I distilled it, I didn\\'t say anything about it<br/>actually tasting good. - Yeah, that\\'s awful.<br/>- You want it on the rocks? Little trick I taught myself<br/>as a young man stationed on a ship<br/>with way too much free time. Every now and again,<br/>if the C.O. was working us too hard, we\\'d freeze and snap the knob off the bathroom door<br/>while he was still inside. It usually took him an hour or two<br/>to get out. - I\\'m good.<br/>- Suit yourself. Cheers. Ah... This is clean. All you need to do is stitch. (BREATHING DEEPLY) (WINCES) (HOWARD GASPS) You\\'re doing fine. HOWARD: Some stuff<br/>I grabbed from your car. I didn\\'t have time<br/>to bring in the booze. Sadly. What is all that? I wanted to design clothes. No wonder you were so good<br/>with the stitches. Megan wanted to be an artist. She was your daughter? Yes. She was smart. Loved to read.<br/>The magazines were just for fun. She inhaled books. Anything with Paris. She liked their movies,<br/>their culture, you know. We used to have this little joke. Every once in a while I\\'d ask her, \"What do you want to be<br/>when you grow up?\" You know what she\\'d say? \"French.\" (CHUCKLES) Anyway, her mother<br/>turned her against me. Took her off to Chicago. People are strange creatures. You can\\'t always convince them<br/>that safety is in their own best interest. You don\\'t know they\\'re gone. Anyway, at least I tried to help them. - EMMETT: Hey.<br/>- (KNOCKING ON WALL) There was nothing<br/>you could\\'ve done for that woman. Even if you let her in,<br/>she still would\\'ve died. You asked earlier about regrets? Yeah, I\\'ve got some of those. Welcome to the club. (SCOFFS) I mean,<br/>I lived my life in a 40-mile radius. And that was by design.<br/>I made sure that happened. I was so fast in high school, I even managed to outrun<br/>my bad grades. I was All-State track three years in a row. (SNIFFLES AND CLICKS TONGUE) Caught a full ride to Louisiana Tech,<br/>up there in Ruston. (CHUCKLES) I remember I spent<br/>the last two weeks of that summer showing off the bus ticket they sent me<br/>to anybody who\\'d take a look at it. And then came the night before<br/>I was supposed to leave. And I just got so worried about how bad I was gonna do up there with all those smart kids. So, I went out of my way to get just piss-wasted so bad that I knew there was no chance<br/>I was waking up in the morning. So, I missed the bus. And I didn\\'t buy a ticket for the next one. Or the one after that. Well, if you\\'d gone,<br/>you might be dead now. (CHUCKLING) Yeah, lucky me, right? Lucky us. (STUTTERS) A few years ago, I was at a hardware store. And there was this little<br/>girl with her dad. And he was in a hurry,<br/>and she wasn\\'t keeping up. So, he kept yanking on her arm. But really hard, you know? Too hard. I know that feeling. When my dad got that way, my brother Colin was always there<br/>to take the worst of it for me. And I thought, seeing this little girl, I thought maybe I could do that for her. But I just kept watching. And they\\'re about to leave,<br/>and I\\'ve done nothing. And she slips. And it throws him off-balance,<br/>and he hits her. And I wanted so badly to do something to help her, but... I did what I always do<br/>when things get hard. I just panicked and ran. (SCOFFS) (SNIFFLES) Look, we\\'re here. We\\'re alive. And that means something. It\\'s gotta. (SIGHS) (UPBEAT MUSIC PLAYING) (MAN ULULATING ON TV) (MAN SCREAMING ON TV) - You\\'ve got to be kidding me.<br/>- What? We\\'re missing pieces here. Look at this poor cat.<br/>He\\'s been deformed. He\\'s got one eye. He\\'s about to go snorkeling<br/>and everything, too. What are you doing? Ooh! Cornering the market on<br/>post-apocalyptic fashion, huh? Mmm-hmm. You need more axes and chain saws. For what? She has a shotgun. Yeah. But what if up there it\\'s like... What? Lumberjacks? Zombies. Though even Howard doesn\\'t think<br/>that one\\'s plausible. But you should hear his theory<br/>about mutant space worms. (CHUCKLES SOFTLY) (RUMBLING) What is that? Howard! Stay calm. We\\'re okay. (RUMBLING AND CLANGING) - What was that?<br/>- Quiet. That sounds like helicopters. HOWARD: Could be military. But not ours. - EMMETT: How can you tell?<br/>- Fourteen years in the Navy. What\\'s happening up there? My guess? Those flashes that kicked this all off? That was phase one. Take out your opponent\\'s<br/>population centers with big hits, all at once, fast. And then for round two, ground sweeps. A satellite log showed an increase<br/>in coded traffic recently. Possibly extraterrestrial signals. I bet what we just heard<br/>were airborne patrols sent to hunt down<br/>the remaining signs of life. Like us. - (SOFT WHIRRING)<br/>- (ALARM BUZZING) Okay. Oh, boy. That\\'s bad. (GRUNTS) And that\\'s worse. What\\'s up there? Air filtration system. I can\\'t... (GRUNTS) Something blocking the hatch. If we can\\'t get it back on, we\\'re gonna<br/>run out of breathable air fast. (HOWARD GRUNTS) You\\'re the only one<br/>small enough to reach it. Reach what? The filtration system.<br/>Through there, the main duct. Someone needs to get in there<br/>and restart it. Give me a hand. Let me go. She\\'s not gonna<br/>know her way around the unit. You won\\'t fit. Plus your arm.<br/>She\\'ll be fine. Now, to restart the unit,<br/>you just swing the handle off, then on, off, then on. That should do it. And neither of us will be able to go in<br/>and help you if you get stuck. Don\\'t get stuck. (GRUNTING SOFTLY) HOWARD: Michelle! Everything okay up there? It looks like a dead end. HOWARD: That\\'s the incline. Climb up that and you\\'re almost there. Ah, this sucks. (GRUNTING) (WHIRRING) (SIGHING) EMMETT: What\\'s wrong? (WHISPERS) Howard. He lied, he lied about Megan. What do you mean? I think he did something horrible to her. No, his family moved<br/>to Chicago years ago. What\\'s this? Is that blood? Here, come with me. Wait, that... That\\'s not Megan. What do you mean? Yeah. Her name is Brittany.<br/>I remember her. She went to high school<br/>with my little sister. She... She went missing. Two years back. It was on the news and everything. Most people just thought<br/>she skipped town. There was a message up there. It said \"Help.\" It was scratched<br/>on the inside of the window. And this earring... This earring was with it. Did she ever show back up<br/>after she went missing? He said to me... He said to my face,<br/>that this was his daughter. He said this was Megan. - He took her and he killed her.<br/>- (CLATTERING) (WHISPERS) All right, let\\'s just think. Maybe we take away his gun. Tie him up, get him to confess<br/>to whatever it is he\\'s done. Confess to who? The police? Look, like I said,<br/>we can\\'t be the only survivors, right? The woman,<br/>she was able to get around, right? At least a little. Yeah, until she died. Directly above us,<br/>making choking noises. Of all the people to save us... HOWARD: Now, that was<br/>a great example of teamwork. Very well done. I feel like some music. (PUNCHING BUTTONS) Problem solving always puts me<br/>in a musical mood. (CHEERFUL MUSIC PLAYING) Michelle, you should go shower, just in case. Sure. (CHEERFUL MUSIC<br/>CONTINUES PLAYING) (SHOWER RUNNING) I think I might have an idea. \"Ten Better Ways to Style My Bangs\"? No, not the article. This. I think I can only make one,<br/>but it\\'s a start. No kidding. <i>What are you doing up?<br/>I didn\\'t wake you up yet.</i> MAN: <i>Well, I\\'m fixing your breakfast.</i> <i>One egg over medium.</i> Hey, Howard. What is this?<br/>You re-watching <i>Sixteen Candles?</i> <i>Pretty in Pink.</i> It was one of Megan\\'s favorite movies.<br/>Can I help you with something? No. No, I\\'m just grabbing some water. (CLEARS THROAT) (MOVIE CONTINUES PLAYING) Say, um... You know, I was just thinking...<br/>(CLEARS THROAT) Not that I\\'m trying to tell you<br/>how to run this place or anything. I\\'m just a little curious. Michelle... Say, how close do you think she got<br/>to that air filtration unit? You think she touched it? Yeah, I\\'m pretty sure she touched it. Well, I know she cleaned up<br/>after and everything, but I\\'m just thinking, given that unit filters<br/>God knows what through from outside, if she tracked anything back in with her,<br/>it\\'d be pretty concentrated. And, I mean, it could be<br/>all over the shower and the sink in your bathroom, right now. Anyway, it\\'s just a thought. (MOVIE RESUMES PLAYING) (SHUTS TV OFF) EMMETT: Not bad so far, partner. MICHELLE: If Howard finds this,<br/>he\\'s gonna kill us. All right, so,<br/>we get the gun away from him. All right. We tie him up,<br/>make sure he isn\\'t going anywhere. And then one of us just goes out and looks for help. (SIGHS) (TIMER TICKING) Um... First word. Uh... Tiny. Small. Pygmy. Um... - Little.<br/>- Yep! Mmm-hmm. All right, uh, second word. Ooh! Michelle is a... (STAMMERING) A girl. (STAMMERING CONTINUES) A girl. A child. Um... (GRUNTS) A girl. No, she\\'s older, see, so she is a... \"Little Princess\"? (TIMER RINGING) Um... No, it was woman. Um, Little Women. Wow. Little woman. (SIGHS) (SNORTS) Next time,<br/>try being a little more specific. Let\\'s see here. (TIMER STARTS TICKING) I\\'m always watching. Always. Um... God. I go wherever I want. Uh... I mean... Well, I don\\'t know. I know what you\\'re doing.<br/>I see what you\\'re doing. Um... I know what you\\'re up to. (STAMMERING) Look, Howard,<br/>I don\\'t know what you\\'re getting at, but... I see you when you\\'re sleeping. I know what you\\'re doing,<br/>and I\\'m always watching. Always watching! I\\'m always watching! Santa Claus! (CHUCKLES) You\\'re Santa Claus. (TIMER RINGING) Yeah, Michelle, that\\'s great. Except it was Emmett\\'s turn. Sorry, I just got a little excited. Yeah, well, I\\'m keeping that point. Totally. You earned it. (TAPPING PEN) (FOOTSTEPS) Emmett? (SHRIEKS) Hey. I need your help with something. Sure. You. On deck. What is this? HOWARD: The barrel. What\\'s in it? Move it into the bathroom. HOWARD: This is perchloric acid. Do either of you know what that is? It\\'s usually produced as a precursor<br/>to ammonium perchlorate, a fuel used for launching<br/>naval satellites into orbit. It\\'s highly corrosive. Dissolves most biological<br/>material on contact. With humans, right down to the bone. Hey, Howard, uh,<br/>what are you showing this to us for? You think I\\'m an idiot? EMMETT: Uh...<br/>(CHUCKLES NERVOUSLY) Howard, please,<br/>you\\'re gonna have to tell us what it is that you\\'re talking about. I\\'m talking about<br/>getting rid of some waste. Tell me what you two<br/>were doing with these. You tell me what you two<br/>were planning, right now! Howard, listen, just take it easy.<br/>Take it easy. Howard, come on, please. No. I\\'m giving you one chance. EMMETT: Hey. Howard, just calm down. One chance to answer<br/>with some dignity, or I swear to God, you\\'re going into this barrel<br/>while you\\'re alive to feel it. It was me. All right? Not her. It\\'s just me. - No, no, no, we...<br/>- Stay out of this, all right? She doesn\\'t have a clue<br/>what you\\'re talking about. I wanted your gun. And so, I was thinking<br/>about making a weapon to get it from you. I want her to respect me<br/>the way that she respects you. I\\'m not saying that I was right, okay? And I\\'m sorry. You\\'re sorry? I\\'m sorry. I accept your apology. (SIGHS) (INAUDIBLE) Listen to me.<br/>You heard him. You heard him. He was making a weapon.<br/>He was gonna hurt us. He was gonna hurt you. And it\\'s okay. This was the way<br/>it was always supposed to be. You\\'re safe. Now it\\'s just you and me. It\\'s okay, you know. You should go to your room now. This next part isn\\'t something<br/>you need to see. Okay. Go on. (SNIFFLES) (SIGHING) HOWARD: Michelle? Hey. I thought we\\'d change things up tonight and have dessert before dinner. After all,<br/>we can do whatever we want now. Would you like a cone or a bowl? Megan always wanted hers in a bowl. She said the cones were too messy. I know that this isn\\'t<br/>the life you\\'d prefer, that it isn\\'t easy for<br/>you living down here, but I want us to be a happy family. You and me. The mess is all taken care of. So, just hang loose<br/>and I\\'ll go get dinner started. HOWARD: Michelle? (DOOR OPENS) Everything all right? Yeah, I was just about<br/>to do some reading. Hmm. It\\'s time to set the table. Supper\\'s ready. Yeah. Okay. (METALLIC CLANK) It keeps doing that.<br/>(STUTTERING) I don\\'t know why. Michelle, why is this loose? - Get up.<br/>- Why? - Get off the mattress now!<br/>- (GROANS) (BOTH GRUNTING) Oh, shit! Michelle! Stop! Goddamn it, get back here! (PANTING) (GASPING) HOWARD: You gonna walk out on me? After I saved you and kept you safe,<br/>this is how you repay me. No. This is. (GRUNTS) (SCREAMING) (HOWARD GROANING) (HOWARD WHEEZING) (FIRE ALARM BUZZING) (HOWARD WHEEZING) (GROWLING) (PANTING) (YELPS) HOWARD: Michelle! (GRUNTING) (SCREAMS) (HOWARD GROANING LOUDLY) (GRUNTS) - Stop!<br/>- (YELPS) You don\\'t know what\\'s out there. You can\\'t run from them! (GRUNTS) HOWARD: Stay with me! Let me go! (HOWARD SCREAMS) (MICHELLE COUGHING) (COUGHING) (BREATHING DEEPLY) (HISSING) (GRUNTING) (PANTING) (RIPPING) (GASPS) (GRUNTING) (GRUNTING FRANTICALLY) (BREATHING SHAKILY) (WHIMPERING) (BIRDS SQUAWKING) (CHUCKLES) (BIRDS SQUAWKING) (CHUCKLES) (SIGHS) (WHIRRING IN DISTANCE) (MUFFLED EXPLODING) (MUFFLED EXPLODING) - (EXPLODING)<br/>- (GASPS) Oh, come on. (ALARM WAILING) (PANTING) (ALARM CONTINUES) (SHUDDERING) (RUSTLING) (THUDDING) (GRUNTS) (ALARM CONTINUES WAILING) (SNARLS) Keys, keys, keys. Come on, damn it! - (THUD ON DOOR)<br/>- (GASPS) (THUDDING) (GASPS) (SQUEAKING) (GASPS) (PANTING) Come on. Come on. (ALIEN CHITTERING) (CAR ALARM BEEPS) (GRUNTING) (PANTING) (ALIEN CHITTERING) Help! I\\'m out here! Help! (RUMBLING) (HISSING) (PANTING) (SNARLING) - (GRUNTING)<br/>- (CHITTERING) (WHIMPERING) (SCREAMS) Oh, God. (RUMBLING) (GRUNTING) (SNARLS) (GROWLS) (EXPLODING) (SCREAMING) (SIGHS) (GLASS CLINKING) (PANTING) Oh, fuck. (ENGINE SPUTTERS) (ENGINE SPUTTERS AND STARTS) (TIRES SCREECHING) (STATIC ON RADIO) FEMALE BROADCASTER: <i>The military<br/>has taken back the southern seaboard.</i> <i>If you are hearing this<br/>and aren\\'t in a safe zone,</i> <i>head north of Baton Rouge.</i> <i>But if you have any medical training<br/>or combat experience,</i> <i>we need help.</i> <i>There are people in Houston.</i> <i>There are survivors at Mercy Hospital.</i> <i>Please help.</i> <i>Repeat. There are people in Houston<br/>who need our help.</i> <i>Come join us.</i> <i>We\\'ve taken back<br/>the southern seaboard.</i> <i>And we \\'re winning.</i> <i>But if you have any medical training<br/>or combat experience,</i> <i>there are survivors...</i> (TIRES SQUEALING) (RUMBLING)'"
      ]
     },
     "execution_count": 10,
     "metadata": {},
     "output_type": "execute_result"
    }
   ],
   "source": [
    "df['Subtitles'][0]"
   ]
  },
  {
   "cell_type": "markdown",
   "id": "3407d44c",
   "metadata": {},
   "source": [
    "Видим, что субтитры содержат много шума. Для очистки субтитров воспользуемся библиотекой Regex."
   ]
  },
  {
   "cell_type": "code",
   "execution_count": 11,
   "id": "6b22758d",
   "metadata": {},
   "outputs": [],
   "source": [
    "HTML = re.compile(r'<.*?>')\n",
    "TAG = re.compile(r'{.*?}')\n",
    "COMMENTS = re.compile(r'[\\(\\[][A-Z ]+[\\)\\]]')\n",
    "LETTERS = re.compile(r'[^a-zA-Z\\'.,!? ]')\n",
    "SPACES = re.compile(r'([ ])\\1+')\n",
    "DOTS = re.compile(r'[\\.]+')"
   ]
  },
  {
   "cell_type": "code",
   "execution_count": 12,
   "id": "580ea717",
   "metadata": {},
   "outputs": [],
   "source": [
    "def clean_subs(txt):\n",
    "    txt = HTML.sub(' ', str(txt).lower())  #html тэги меняем на пробел\n",
    "    txt = TAG.sub(' ', txt) #тэги меняем на пробел\n",
    "    txt = COMMENTS.sub(' ', txt) #комменты меняем на пробел\n",
    "    txt = LETTERS.sub(' ', txt) #все что не буквы меняем на пробел\n",
    "    txt = SPACES.sub(' ', txt) #повторяющиеся пробелы меняем на один пробел\n",
    "    txt = DOTS.sub(' ', txt) #многоточие меняем на точку\n",
    "    txt = txt.encode('ascii', 'ignore').decode() #удаляем все что не ascii символы\n",
    "    #удаляем первый и последний субтитр (обычно это реклама)\n",
    "    sentences = nltk.sent_tokenize(txt)\n",
    "    if len(sentences) > 2:\n",
    "        return \" \".join(sentences[1:-1])\n",
    "    else:\n",
    "        return \" \"\n",
    "    return txt"
   ]
  },
  {
   "cell_type": "code",
   "execution_count": 13,
   "id": "714d47db",
   "metadata": {},
   "outputs": [],
   "source": [
    "df['Subtitles'] = df['Subtitles'].apply(clean_subs)"
   ]
  },
  {
   "cell_type": "code",
   "execution_count": 14,
   "id": "85a5a24e",
   "metadata": {},
   "outputs": [
    {
     "data": {
      "text/html": [
       "<div>\n",
       "<style scoped>\n",
       "    .dataframe tbody tr th:only-of-type {\n",
       "        vertical-align: middle;\n",
       "    }\n",
       "\n",
       "    .dataframe tbody tr th {\n",
       "        vertical-align: top;\n",
       "    }\n",
       "\n",
       "    .dataframe thead th {\n",
       "        text-align: right;\n",
       "    }\n",
       "</style>\n",
       "<table border=\"1\" class=\"dataframe\">\n",
       "  <thead>\n",
       "    <tr style=\"text-align: right;\">\n",
       "      <th></th>\n",
       "      <th>Movie</th>\n",
       "      <th>Level</th>\n",
       "      <th>Subtitles</th>\n",
       "    </tr>\n",
       "    <tr>\n",
       "      <th>id</th>\n",
       "      <th></th>\n",
       "      <th></th>\n",
       "      <th></th>\n",
       "    </tr>\n",
       "  </thead>\n",
       "  <tbody>\n",
       "    <tr>\n",
       "      <th>0</th>\n",
       "      <td>10_Cloverfield_lane(2016)</td>\n",
       "      <td>B1</td>\n",
       "      <td>i can't believe you just left  michelle  come ...</td>\n",
       "    </tr>\n",
       "    <tr>\n",
       "      <th>1</th>\n",
       "      <td>10_things_I_hate_about_you(1999)</td>\n",
       "      <td>B1</td>\n",
       "      <td>i'll be right with you  so, cameron  here you ...</td>\n",
       "    </tr>\n",
       "    <tr>\n",
       "      <th>2</th>\n",
       "      <td>A_knights_tale(2001)</td>\n",
       "      <td>B2</td>\n",
       "      <td>he's due in the lists in two minutes  two minu...</td>\n",
       "    </tr>\n",
       "    <tr>\n",
       "      <th>3</th>\n",
       "      <td>A_star_is_born(2018)</td>\n",
       "      <td>B2</td>\n",
       "      <td>no! roger  you're a wonderful man, yes, and yo...</td>\n",
       "    </tr>\n",
       "    <tr>\n",
       "      <th>4</th>\n",
       "      <td>Aladdin(1992)</td>\n",
       "      <td>A2/A2+</td>\n",
       "      <td>look at this  i have never seen one of these i...</td>\n",
       "    </tr>\n",
       "  </tbody>\n",
       "</table>\n",
       "</div>"
      ],
      "text/plain": [
       "                               Movie   Level  \\\n",
       "id                                             \n",
       "0          10_Cloverfield_lane(2016)      B1   \n",
       "1   10_things_I_hate_about_you(1999)      B1   \n",
       "2               A_knights_tale(2001)      B2   \n",
       "3               A_star_is_born(2018)      B2   \n",
       "4                      Aladdin(1992)  A2/A2+   \n",
       "\n",
       "                                            Subtitles  \n",
       "id                                                     \n",
       "0   i can't believe you just left  michelle  come ...  \n",
       "1   i'll be right with you  so, cameron  here you ...  \n",
       "2   he's due in the lists in two minutes  two minu...  \n",
       "3   no! roger  you're a wonderful man, yes, and yo...  \n",
       "4   look at this  i have never seen one of these i...  "
      ]
     },
     "execution_count": 14,
     "metadata": {},
     "output_type": "execute_result"
    }
   ],
   "source": [
    "df.head()"
   ]
  },
  {
   "cell_type": "markdown",
   "id": "1ed11f41",
   "metadata": {},
   "source": [
    "Удалим из текста стоп-слова."
   ]
  },
  {
   "cell_type": "code",
   "execution_count": 15,
   "id": "7eee0a44",
   "metadata": {},
   "outputs": [],
   "source": [
    "stop_words = stopwords.words('english')"
   ]
  },
  {
   "cell_type": "code",
   "execution_count": 16,
   "id": "c2eb7c7f",
   "metadata": {},
   "outputs": [],
   "source": [
    "def del_stop_words(txt):\n",
    "    words = txt.split()\n",
    "    words = [word for word in words if word.lower() not in stop_words]\n",
    "    txt = \" \".join(words)\n",
    "    return txt"
   ]
  },
  {
   "cell_type": "code",
   "execution_count": 17,
   "id": "058e0e9d",
   "metadata": {},
   "outputs": [],
   "source": [
    "df['Subtitles'] = df['Subtitles'].apply(del_stop_words)"
   ]
  },
  {
   "cell_type": "code",
   "execution_count": 18,
   "id": "43852bd9",
   "metadata": {},
   "outputs": [
    {
     "data": {
      "text/html": [
       "<div>\n",
       "<style scoped>\n",
       "    .dataframe tbody tr th:only-of-type {\n",
       "        vertical-align: middle;\n",
       "    }\n",
       "\n",
       "    .dataframe tbody tr th {\n",
       "        vertical-align: top;\n",
       "    }\n",
       "\n",
       "    .dataframe thead th {\n",
       "        text-align: right;\n",
       "    }\n",
       "</style>\n",
       "<table border=\"1\" class=\"dataframe\">\n",
       "  <thead>\n",
       "    <tr style=\"text-align: right;\">\n",
       "      <th></th>\n",
       "      <th>Movie</th>\n",
       "      <th>Level</th>\n",
       "      <th>Subtitles</th>\n",
       "    </tr>\n",
       "    <tr>\n",
       "      <th>id</th>\n",
       "      <th></th>\n",
       "      <th></th>\n",
       "      <th></th>\n",
       "    </tr>\n",
       "  </thead>\n",
       "  <tbody>\n",
       "    <tr>\n",
       "      <th>0</th>\n",
       "      <td>10_Cloverfield_lane(2016)</td>\n",
       "      <td>B1</td>\n",
       "      <td>can't believe left michelle come back please s...</td>\n",
       "    </tr>\n",
       "    <tr>\n",
       "      <th>1</th>\n",
       "      <td>10_things_I_hate_about_you(1999)</td>\n",
       "      <td>B1</td>\n",
       "      <td>i'll right so, cameron go nine schools years m...</td>\n",
       "    </tr>\n",
       "    <tr>\n",
       "      <th>2</th>\n",
       "      <td>A_knights_tale(2001)</td>\n",
       "      <td>B2</td>\n",
       "      <td>he's due lists two minutes two minutes forfeit...</td>\n",
       "    </tr>\n",
       "    <tr>\n",
       "      <th>3</th>\n",
       "      <td>A_star_is_born(2018)</td>\n",
       "      <td>B2</td>\n",
       "      <td>no! roger wonderful man, yes, great lawyer we'...</td>\n",
       "    </tr>\n",
       "    <tr>\n",
       "      <th>4</th>\n",
       "      <td>Aladdin(1992)</td>\n",
       "      <td>A2/A2+</td>\n",
       "      <td>look never seen one intact famous dead sea tup...</td>\n",
       "    </tr>\n",
       "  </tbody>\n",
       "</table>\n",
       "</div>"
      ],
      "text/plain": [
       "                               Movie   Level  \\\n",
       "id                                             \n",
       "0          10_Cloverfield_lane(2016)      B1   \n",
       "1   10_things_I_hate_about_you(1999)      B1   \n",
       "2               A_knights_tale(2001)      B2   \n",
       "3               A_star_is_born(2018)      B2   \n",
       "4                      Aladdin(1992)  A2/A2+   \n",
       "\n",
       "                                            Subtitles  \n",
       "id                                                     \n",
       "0   can't believe left michelle come back please s...  \n",
       "1   i'll right so, cameron go nine schools years m...  \n",
       "2   he's due lists two minutes two minutes forfeit...  \n",
       "3   no! roger wonderful man, yes, great lawyer we'...  \n",
       "4   look never seen one intact famous dead sea tup...  "
      ]
     },
     "execution_count": 18,
     "metadata": {},
     "output_type": "execute_result"
    }
   ],
   "source": [
    "df.head()"
   ]
  },
  {
   "cell_type": "markdown",
   "id": "75611138",
   "metadata": {},
   "source": [
    "Удалим знаки препинания."
   ]
  },
  {
   "cell_type": "code",
   "execution_count": 19,
   "id": "5ffd9b10",
   "metadata": {},
   "outputs": [],
   "source": [
    "def del_punct(txt):\n",
    "    tokenizer = RegexpTokenizer(r\"\\w+(?:'\\w+)?\")\n",
    "    tokens = tokenizer.tokenize(txt)\n",
    "    return ' '.join(tokens)"
   ]
  },
  {
   "cell_type": "code",
   "execution_count": 20,
   "id": "a937c891",
   "metadata": {},
   "outputs": [],
   "source": [
    "df['Subtitles'] = df['Subtitles'].apply(del_punct)"
   ]
  },
  {
   "cell_type": "code",
   "execution_count": 21,
   "id": "c8f404f4",
   "metadata": {},
   "outputs": [
    {
     "data": {
      "text/html": [
       "<div>\n",
       "<style scoped>\n",
       "    .dataframe tbody tr th:only-of-type {\n",
       "        vertical-align: middle;\n",
       "    }\n",
       "\n",
       "    .dataframe tbody tr th {\n",
       "        vertical-align: top;\n",
       "    }\n",
       "\n",
       "    .dataframe thead th {\n",
       "        text-align: right;\n",
       "    }\n",
       "</style>\n",
       "<table border=\"1\" class=\"dataframe\">\n",
       "  <thead>\n",
       "    <tr style=\"text-align: right;\">\n",
       "      <th></th>\n",
       "      <th>Movie</th>\n",
       "      <th>Level</th>\n",
       "      <th>Subtitles</th>\n",
       "    </tr>\n",
       "    <tr>\n",
       "      <th>id</th>\n",
       "      <th></th>\n",
       "      <th></th>\n",
       "      <th></th>\n",
       "    </tr>\n",
       "  </thead>\n",
       "  <tbody>\n",
       "    <tr>\n",
       "      <th>0</th>\n",
       "      <td>10_Cloverfield_lane(2016)</td>\n",
       "      <td>B1</td>\n",
       "      <td>can't believe left michelle come back please s...</td>\n",
       "    </tr>\n",
       "    <tr>\n",
       "      <th>1</th>\n",
       "      <td>10_things_I_hate_about_you(1999)</td>\n",
       "      <td>B1</td>\n",
       "      <td>i'll right so cameron go nine schools years my...</td>\n",
       "    </tr>\n",
       "    <tr>\n",
       "      <th>2</th>\n",
       "      <td>A_knights_tale(2001)</td>\n",
       "      <td>B2</td>\n",
       "      <td>he's due lists two minutes two minutes forfeit...</td>\n",
       "    </tr>\n",
       "    <tr>\n",
       "      <th>3</th>\n",
       "      <td>A_star_is_born(2018)</td>\n",
       "      <td>B2</td>\n",
       "      <td>no roger wonderful man yes great lawyer we're ...</td>\n",
       "    </tr>\n",
       "    <tr>\n",
       "      <th>4</th>\n",
       "      <td>Aladdin(1992)</td>\n",
       "      <td>A2/A2+</td>\n",
       "      <td>look never seen one intact famous dead sea tup...</td>\n",
       "    </tr>\n",
       "  </tbody>\n",
       "</table>\n",
       "</div>"
      ],
      "text/plain": [
       "                               Movie   Level  \\\n",
       "id                                             \n",
       "0          10_Cloverfield_lane(2016)      B1   \n",
       "1   10_things_I_hate_about_you(1999)      B1   \n",
       "2               A_knights_tale(2001)      B2   \n",
       "3               A_star_is_born(2018)      B2   \n",
       "4                      Aladdin(1992)  A2/A2+   \n",
       "\n",
       "                                            Subtitles  \n",
       "id                                                     \n",
       "0   can't believe left michelle come back please s...  \n",
       "1   i'll right so cameron go nine schools years my...  \n",
       "2   he's due lists two minutes two minutes forfeit...  \n",
       "3   no roger wonderful man yes great lawyer we're ...  \n",
       "4   look never seen one intact famous dead sea tup...  "
      ]
     },
     "execution_count": 21,
     "metadata": {},
     "output_type": "execute_result"
    }
   ],
   "source": [
    "df.head()"
   ]
  },
  {
   "cell_type": "markdown",
   "id": "dbf9ef62",
   "metadata": {},
   "source": [
    "Проведем лемматизацию с помощью WordNetLemmatizer из NLTK."
   ]
  },
  {
   "cell_type": "code",
   "execution_count": 22,
   "id": "e7be52f7",
   "metadata": {},
   "outputs": [],
   "source": [
    "lemmatizer = WordNetLemmatizer()\n",
    "\n",
    "def lemma(txt):\n",
    "    words = txt.split()\n",
    "    words = [lemmatizer.lemmatize(word) for word in words]\n",
    "    return \" \".join(words)"
   ]
  },
  {
   "cell_type": "code",
   "execution_count": 23,
   "id": "04d931c8",
   "metadata": {},
   "outputs": [],
   "source": [
    "df['Subtitles'] = df['Subtitles'].apply(lemma)"
   ]
  },
  {
   "cell_type": "code",
   "execution_count": 24,
   "id": "3678a28d",
   "metadata": {},
   "outputs": [
    {
     "data": {
      "text/html": [
       "<div>\n",
       "<style scoped>\n",
       "    .dataframe tbody tr th:only-of-type {\n",
       "        vertical-align: middle;\n",
       "    }\n",
       "\n",
       "    .dataframe tbody tr th {\n",
       "        vertical-align: top;\n",
       "    }\n",
       "\n",
       "    .dataframe thead th {\n",
       "        text-align: right;\n",
       "    }\n",
       "</style>\n",
       "<table border=\"1\" class=\"dataframe\">\n",
       "  <thead>\n",
       "    <tr style=\"text-align: right;\">\n",
       "      <th></th>\n",
       "      <th>Movie</th>\n",
       "      <th>Level</th>\n",
       "      <th>Subtitles</th>\n",
       "    </tr>\n",
       "    <tr>\n",
       "      <th>id</th>\n",
       "      <th></th>\n",
       "      <th></th>\n",
       "      <th></th>\n",
       "    </tr>\n",
       "  </thead>\n",
       "  <tbody>\n",
       "    <tr>\n",
       "      <th>0</th>\n",
       "      <td>10_Cloverfield_lane(2016)</td>\n",
       "      <td>B1</td>\n",
       "      <td>can't believe left michelle come back please s...</td>\n",
       "    </tr>\n",
       "    <tr>\n",
       "      <th>1</th>\n",
       "      <td>10_things_I_hate_about_you(1999)</td>\n",
       "      <td>B1</td>\n",
       "      <td>i'll right so cameron go nine school year my a...</td>\n",
       "    </tr>\n",
       "    <tr>\n",
       "      <th>2</th>\n",
       "      <td>A_knights_tale(2001)</td>\n",
       "      <td>B2</td>\n",
       "      <td>he's due list two minute two minute forfeit le...</td>\n",
       "    </tr>\n",
       "    <tr>\n",
       "      <th>3</th>\n",
       "      <td>A_star_is_born(2018)</td>\n",
       "      <td>B2</td>\n",
       "      <td>no roger wonderful man yes great lawyer we're ...</td>\n",
       "    </tr>\n",
       "    <tr>\n",
       "      <th>4</th>\n",
       "      <td>Aladdin(1992)</td>\n",
       "      <td>A2/A2+</td>\n",
       "      <td>look never seen one intact famous dead sea tup...</td>\n",
       "    </tr>\n",
       "  </tbody>\n",
       "</table>\n",
       "</div>"
      ],
      "text/plain": [
       "                               Movie   Level  \\\n",
       "id                                             \n",
       "0          10_Cloverfield_lane(2016)      B1   \n",
       "1   10_things_I_hate_about_you(1999)      B1   \n",
       "2               A_knights_tale(2001)      B2   \n",
       "3               A_star_is_born(2018)      B2   \n",
       "4                      Aladdin(1992)  A2/A2+   \n",
       "\n",
       "                                            Subtitles  \n",
       "id                                                     \n",
       "0   can't believe left michelle come back please s...  \n",
       "1   i'll right so cameron go nine school year my a...  \n",
       "2   he's due list two minute two minute forfeit le...  \n",
       "3   no roger wonderful man yes great lawyer we're ...  \n",
       "4   look never seen one intact famous dead sea tup...  "
      ]
     },
     "execution_count": 24,
     "metadata": {},
     "output_type": "execute_result"
    }
   ],
   "source": [
    "df.head()"
   ]
  },
  {
   "cell_type": "markdown",
   "id": "f0074726",
   "metadata": {},
   "source": [
    "Рассмотрим целевой признак."
   ]
  },
  {
   "cell_type": "code",
   "execution_count": 25,
   "id": "f511e9e8",
   "metadata": {},
   "outputs": [
    {
     "data": {
      "text/plain": [
       "B2            101\n",
       "B1             55\n",
       "C1             40\n",
       "A2/A2+         26\n",
       "B1, B2          8\n",
       "A2              6\n",
       "A2/A2+, B1      5\n",
       "Name: Level, dtype: int64"
      ]
     },
     "execution_count": 25,
     "metadata": {},
     "output_type": "execute_result"
    }
   ],
   "source": [
    "df['Level'].value_counts()"
   ]
  },
  {
   "cell_type": "markdown",
   "id": "76f3b59a",
   "metadata": {},
   "source": [
    "В таблице присутствуют смежные признаки, такие как: A2/A2+; A2/A2+, B1. Также выборка слишком мала, в некоторых классах не более 8 объектов. Заменим смежные классы, будем использовать наивысший указанный рейтинг. Рейтинг A2/A2+ заменим на A2, B1/B2 - на B2, A2/A2+/B1 - на B1."
   ]
  },
  {
   "cell_type": "code",
   "execution_count": 26,
   "id": "2a5bcd8d",
   "metadata": {},
   "outputs": [],
   "source": [
    "def conduct_level(level):\n",
    "    if level == 'A2/A2+':\n",
    "        return 'A2'\n",
    "    elif level == 'B1, B2':\n",
    "        return 'B2'\n",
    "    elif level == 'A2/A2+, B1':\n",
    "        return 'B1'\n",
    "    else:\n",
    "        return level"
   ]
  },
  {
   "cell_type": "code",
   "execution_count": 27,
   "id": "bea422a0",
   "metadata": {},
   "outputs": [],
   "source": [
    "df['Level'] = df['Level'].apply(conduct_level)"
   ]
  },
  {
   "cell_type": "markdown",
   "id": "2db055e1",
   "metadata": {},
   "source": [
    "Выведем результат."
   ]
  },
  {
   "cell_type": "code",
   "execution_count": 28,
   "id": "18d4404d",
   "metadata": {
    "scrolled": true
   },
   "outputs": [
    {
     "data": {
      "text/plain": [
       "B2    109\n",
       "B1     60\n",
       "C1     40\n",
       "A2     32\n",
       "Name: Level, dtype: int64"
      ]
     },
     "execution_count": 28,
     "metadata": {},
     "output_type": "execute_result"
    }
   ],
   "source": [
    "df['Level'].value_counts()"
   ]
  },
  {
   "cell_type": "markdown",
   "id": "9a3ab454",
   "metadata": {},
   "source": [
    "Ситуация улучшилась, но для обучения модели слишком мало объектов. Разобьем субтитры надвое и увеличим выборку."
   ]
  },
  {
   "cell_type": "code",
   "execution_count": 29,
   "id": "0f7b323a",
   "metadata": {},
   "outputs": [],
   "source": [
    "halfs = []\n",
    "for _, row in df.iterrows():\n",
    "    text_a = row[\"Subtitles\"].split()[:len(row[\"Subtitles\"].split()) // 2]\n",
    "    text_b = row[\"Subtitles\"].split()[len(row[\"Subtitles\"].split()) // 2:]\n",
    "    halfs.append({\n",
    "        \"Subtitles\": \" \".join(text_a),\n",
    "        \"Level\": row[\"Level\"]\n",
    "    })\n",
    "    halfs.append({\n",
    "        \"Subtitles\": \" \".join(text_b),\n",
    "        \"Level\": row[\"Level\"]\n",
    "    })\n",
    "\n",
    "new_df = pd.DataFrame(halfs)"
   ]
  },
  {
   "cell_type": "code",
   "execution_count": 30,
   "id": "3d2e6262",
   "metadata": {},
   "outputs": [
    {
     "data": {
      "text/html": [
       "<div>\n",
       "<style scoped>\n",
       "    .dataframe tbody tr th:only-of-type {\n",
       "        vertical-align: middle;\n",
       "    }\n",
       "\n",
       "    .dataframe tbody tr th {\n",
       "        vertical-align: top;\n",
       "    }\n",
       "\n",
       "    .dataframe thead th {\n",
       "        text-align: right;\n",
       "    }\n",
       "</style>\n",
       "<table border=\"1\" class=\"dataframe\">\n",
       "  <thead>\n",
       "    <tr style=\"text-align: right;\">\n",
       "      <th></th>\n",
       "      <th>Subtitles</th>\n",
       "      <th>Level</th>\n",
       "    </tr>\n",
       "  </thead>\n",
       "  <tbody>\n",
       "    <tr>\n",
       "      <th>0</th>\n",
       "      <td>can't believe left michelle come back please s...</td>\n",
       "      <td>B1</td>\n",
       "    </tr>\n",
       "    <tr>\n",
       "      <th>1</th>\n",
       "      <td>let in let in you you you you you pounding doo...</td>\n",
       "      <td>B1</td>\n",
       "    </tr>\n",
       "    <tr>\n",
       "      <th>2</th>\n",
       "      <td>i'll right so cameron go nine school year my a...</td>\n",
       "      <td>B1</td>\n",
       "    </tr>\n",
       "    <tr>\n",
       "      <th>3</th>\n",
       "      <td>listen really meant something told part alread...</td>\n",
       "      <td>B1</td>\n",
       "    </tr>\n",
       "    <tr>\n",
       "      <th>4</th>\n",
       "      <td>he's due list two minute two minute forfeit le...</td>\n",
       "      <td>B2</td>\n",
       "    </tr>\n",
       "  </tbody>\n",
       "</table>\n",
       "</div>"
      ],
      "text/plain": [
       "                                           Subtitles Level\n",
       "0  can't believe left michelle come back please s...    B1\n",
       "1  let in let in you you you you you pounding doo...    B1\n",
       "2  i'll right so cameron go nine school year my a...    B1\n",
       "3  listen really meant something told part alread...    B1\n",
       "4  he's due list two minute two minute forfeit le...    B2"
      ]
     },
     "execution_count": 30,
     "metadata": {},
     "output_type": "execute_result"
    }
   ],
   "source": [
    "new_df.head()"
   ]
  },
  {
   "cell_type": "code",
   "execution_count": 31,
   "id": "a544ca97",
   "metadata": {},
   "outputs": [
    {
     "data": {
      "text/plain": [
       "<AxesSubplot:>"
      ]
     },
     "execution_count": 31,
     "metadata": {},
     "output_type": "execute_result"
    },
    {
     "data": {
      "image/png": "[encoded data removed]",
      "text/plain": [
       "<Figure size 640x480 with 1 Axes>"
      ]
     },
     "metadata": {},
     "output_type": "display_data"
    }
   ],
   "source": [
    "new_df['Level'].value_counts().plot(kind='bar', grid=True)"
   ]
  },
  {
   "cell_type": "markdown",
   "id": "9ccf8640",
   "metadata": {},
   "source": [
    "Также в данных присутствует дисбаланс классов. Для балансировки выборки применим дополнительное разделение субтитров."
   ]
  },
  {
   "cell_type": "code",
   "execution_count": 32,
   "id": "6dd14573",
   "metadata": {},
   "outputs": [],
   "source": [
    "parts = []\n",
    "for _, row in df.iterrows():\n",
    "    if row['Level'] == 'B1':\n",
    "        text_a = row[\"Subtitles\"].split()[:len(row[\"Subtitles\"].split()) // 2]\n",
    "        text_b = row[\"Subtitles\"].split()[len(row[\"Subtitles\"].split()) // 2:]\n",
    "        parts.append({\n",
    "            \"Subtitles\": \" \".join(text_a),\n",
    "            \"Level\": row[\"Level\"]\n",
    "        })\n",
    "        parts.append({\n",
    "            \"Subtitles\": \" \".join(text_b),\n",
    "            \"Level\": row[\"Level\"]\n",
    "        })\n",
    "    elif (row['Level'] == 'C1') or (row['Level'] == 'A2'):\n",
    "        subtitles = row[\"Subtitles\"].split()\n",
    "        num_words = len(subtitles)\n",
    "        part_size = num_words // 3\n",
    "        text_a = subtitles[:part_size]\n",
    "        text_b = subtitles[part_size:2*part_size]\n",
    "        text_c = subtitles[2*part_size:]\n",
    "        parts.append({\n",
    "            \"Subtitles\": \" \".join(text_a),\n",
    "            \"Level\": row[\"Level\"]\n",
    "        })\n",
    "        parts.append({\n",
    "            \"Subtitles\": \" \".join(text_b),\n",
    "            \"Level\": row[\"Level\"]\n",
    "        })\n",
    "        parts.append({\n",
    "            \"Subtitles\": \" \".join(text_c),\n",
    "            \"Level\": row[\"Level\"]\n",
    "        })\n",
    "    else:\n",
    "        parts.append({\n",
    "            \"Subtitles\": row[\"Subtitles\"],\n",
    "            \"Level\": row[\"Level\"]\n",
    "        })\n",
    "\n",
    "new_df = pd.DataFrame(parts)"
   ]
  },
  {
   "cell_type": "markdown",
   "id": "9df9eb10",
   "metadata": {},
   "source": [
    "Выведем полученное процентное соотношение классов."
   ]
  },
  {
   "cell_type": "code",
   "execution_count": 33,
   "id": "2e9e1c84",
   "metadata": {},
   "outputs": [
    {
     "data": {
      "text/plain": [
       "B1    26.966292\n",
       "C1    26.966292\n",
       "B2    24.494382\n",
       "A2    21.573034\n",
       "Name: Level, dtype: float64"
      ]
     },
     "execution_count": 33,
     "metadata": {},
     "output_type": "execute_result"
    }
   ],
   "source": [
    "new_df['Level'].value_counts(normalize=True) * 100"
   ]
  },
  {
   "cell_type": "markdown",
   "id": "21df3849",
   "metadata": {},
   "source": [
    "Данные обработаны и готовы для обучения модели."
   ]
  },
  {
   "cell_type": "markdown",
   "id": "834b798b",
   "metadata": {},
   "source": [
    "### Обучение моделей"
   ]
  },
  {
   "cell_type": "markdown",
   "id": "ae41d2a5",
   "metadata": {},
   "source": [
    "Сохраним признаки (субтитры) в переменной X, а целевой признак (уровень) в переменной y."
   ]
  },
  {
   "cell_type": "code",
   "execution_count": 34,
   "id": "f429cd36",
   "metadata": {},
   "outputs": [],
   "source": [
    "X, y = new_df['Subtitles'], new_df['Level']"
   ]
  },
  {
   "cell_type": "markdown",
   "id": "58dc1416",
   "metadata": {},
   "source": [
    "Разделим выборку на обучающую и тестовую в соотношении 3:1."
   ]
  },
  {
   "cell_type": "code",
   "execution_count": 35,
   "id": "c8372b3c",
   "metadata": {},
   "outputs": [],
   "source": [
    "X_train, X_test, y_train, y_test = train_test_split(X, y, test_size=0.25, random_state=326, stratify=y)"
   ]
  },
  {
   "cell_type": "markdown",
   "id": "8ccfa9c9",
   "metadata": {},
   "source": [
    "Проверим разбиение."
   ]
  },
  {
   "cell_type": "code",
   "execution_count": 36,
   "id": "42408b0c",
   "metadata": {},
   "outputs": [
    {
     "data": {
      "text/plain": [
       "(333,)"
      ]
     },
     "execution_count": 36,
     "metadata": {},
     "output_type": "execute_result"
    }
   ],
   "source": [
    "X_train.shape"
   ]
  },
  {
   "cell_type": "code",
   "execution_count": 37,
   "id": "644732d2",
   "metadata": {},
   "outputs": [
    {
     "data": {
      "text/plain": [
       "(112,)"
      ]
     },
     "execution_count": 37,
     "metadata": {},
     "output_type": "execute_result"
    }
   ],
   "source": [
    "X_test.shape"
   ]
  },
  {
   "cell_type": "markdown",
   "id": "9e8e12ac",
   "metadata": {},
   "source": [
    "Векторизуем субтитры с помощью TfidfVectorizer."
   ]
  },
  {
   "cell_type": "code",
   "execution_count": 38,
   "id": "f0de9f8a",
   "metadata": {},
   "outputs": [],
   "source": [
    "vectorizer = TfidfVectorizer()\n",
    "X_train = vectorizer.fit_transform(X_train)\n",
    "X_test = vectorizer.transform(X_test)"
   ]
  },
  {
   "cell_type": "markdown",
   "id": "e5089008",
   "metadata": {},
   "source": [
    "#### Catboost"
   ]
  },
  {
   "cell_type": "markdown",
   "id": "cff1f995",
   "metadata": {},
   "source": [
    "Зададим pool для обучающей и тестовой выборок."
   ]
  },
  {
   "cell_type": "code",
   "execution_count": 39,
   "id": "d6da55a2",
   "metadata": {},
   "outputs": [],
   "source": [
    "train_data = Pool(data=X_train,\n",
    "                  label=y_train)\n",
    "test_data = Pool(data=X_test,\n",
    "                  label=y_test)"
   ]
  },
  {
   "cell_type": "markdown",
   "id": "5bdf7953",
   "metadata": {},
   "source": [
    "Зададим параметры и проведем кросс-валидацию."
   ]
  },
  {
   "cell_type": "code",
   "execution_count": 41,
   "id": "a9904997",
   "metadata": {},
   "outputs": [],
   "source": [
    "params = {\n",
    "    'eval_metric': 'Accuracy',\n",
    "    'loss_function': 'MultiClass',\n",
    "    'learning_rate': 0.05,\n",
    "    'random_seed': 323,\n",
    "    'verbose': 100,\n",
    "    'n_estimators': 1500\n",
    "}"
   ]
  },
  {
   "cell_type": "code",
   "execution_count": 42,
   "id": "cc57f4c2",
   "metadata": {},
   "outputs": [
    {
     "name": "stdout",
     "output_type": "stream",
     "text": [
      "Training on fold [0/4]\n",
      "0:\tlearn: 0.5846774\ttest: 0.3882353\tbest: 0.3882353 (0)\ttotal: 498ms\tremaining: 12m 26s\n",
      "100:\tlearn: 0.9596774\ttest: 0.6941176\tbest: 0.7176471 (84)\ttotal: 26.2s\tremaining: 6m 3s\n",
      "200:\tlearn: 0.9919355\ttest: 0.7176471\tbest: 0.7411765 (160)\ttotal: 51.7s\tremaining: 5m 34s\n",
      "300:\tlearn: 0.9919355\ttest: 0.7294118\tbest: 0.7411765 (160)\ttotal: 1m 15s\tremaining: 4m 59s\n",
      "400:\tlearn: 0.9919355\ttest: 0.7529412\tbest: 0.7529412 (375)\ttotal: 1m 29s\tremaining: 4m 5s\n",
      "500:\tlearn: 0.9959677\ttest: 0.7411765\tbest: 0.7529412 (375)\ttotal: 1m 45s\tremaining: 3m 30s\n",
      "600:\tlearn: 0.9959677\ttest: 0.7294118\tbest: 0.7529412 (375)\ttotal: 2m\tremaining: 3m\n",
      "\n",
      "bestTest = 0.7529411765\n",
      "bestIteration = 375\n",
      "\n",
      "Training on fold [1/4]\n",
      "0:\tlearn: 0.5983936\ttest: 0.5357143\tbest: 0.5357143 (0)\ttotal: 168ms\tremaining: 4m 12s\n",
      "100:\tlearn: 0.9759036\ttest: 0.5595238\tbest: 0.5952381 (77)\ttotal: 14.8s\tremaining: 3m 25s\n",
      "200:\tlearn: 0.9839357\ttest: 0.6309524\tbest: 0.6666667 (182)\ttotal: 29.5s\tremaining: 3m 10s\n",
      "300:\tlearn: 0.9879518\ttest: 0.6785714\tbest: 0.6785714 (298)\ttotal: 44.6s\tremaining: 2m 57s\n",
      "400:\tlearn: 0.9879518\ttest: 0.6785714\tbest: 0.6904762 (306)\ttotal: 59.6s\tremaining: 2m 43s\n",
      "500:\tlearn: 0.9959839\ttest: 0.6785714\tbest: 0.6904762 (306)\ttotal: 1m 14s\tremaining: 2m 28s\n",
      "600:\tlearn: 0.9959839\ttest: 0.6904762\tbest: 0.6904762 (306)\ttotal: 1m 29s\tremaining: 2m 13s\n",
      "\n",
      "bestTest = 0.6904761905\n",
      "bestIteration = 306\n",
      "\n",
      "Training on fold [2/4]\n",
      "0:\tlearn: 0.6414343\ttest: 0.5487805\tbest: 0.5487805 (0)\ttotal: 177ms\tremaining: 4m 25s\n",
      "100:\tlearn: 0.9641434\ttest: 0.7195122\tbest: 0.7560976 (86)\ttotal: 14.8s\tremaining: 3m 24s\n",
      "200:\tlearn: 0.9880478\ttest: 0.7560976\tbest: 0.8170732 (138)\ttotal: 29.7s\tremaining: 3m 12s\n",
      "300:\tlearn: 0.9880478\ttest: 0.7560976\tbest: 0.8170732 (138)\ttotal: 44.7s\tremaining: 2m 58s\n",
      "400:\tlearn: 0.9920319\ttest: 0.7560976\tbest: 0.8170732 (138)\ttotal: 59.4s\tremaining: 2m 42s\n",
      "\n",
      "bestTest = 0.8170731707\n",
      "bestIteration = 138\n",
      "\n",
      "Training on fold [3/4]\n",
      "0:\tlearn: 0.5179283\ttest: 0.4024390\tbest: 0.4024390 (0)\ttotal: 157ms\tremaining: 3m 56s\n",
      "100:\tlearn: 0.9681275\ttest: 0.6951220\tbest: 0.7317073 (85)\ttotal: 14.8s\tremaining: 3m 24s\n",
      "200:\tlearn: 0.9840637\ttest: 0.7560976\tbest: 0.7682927 (168)\ttotal: 29.8s\tremaining: 3m 12s\n",
      "300:\tlearn: 0.9840637\ttest: 0.7926829\tbest: 0.7926829 (235)\ttotal: 44.5s\tremaining: 2m 57s\n",
      "400:\tlearn: 0.9880478\ttest: 0.7926829\tbest: 0.8048780 (326)\ttotal: 59.1s\tremaining: 2m 42s\n",
      "500:\tlearn: 0.9920319\ttest: 0.7804878\tbest: 0.8048780 (326)\ttotal: 1m 13s\tremaining: 2m 26s\n",
      "600:\tlearn: 0.9920319\ttest: 0.7926829\tbest: 0.8048780 (326)\ttotal: 1m 28s\tremaining: 2m 11s\n",
      "\n",
      "bestTest = 0.8048780488\n",
      "bestIteration = 326\n",
      "\n"
     ]
    }
   ],
   "source": [
    "cv_data = cv(\n",
    "    params=params,\n",
    "    pool=train_data,\n",
    "    fold_count=4,\n",
    "    shuffle=True,\n",
    "    partition_random_seed=323,\n",
    "    stratified=True,\n",
    "    early_stopping_rounds=300)"
   ]
  },
  {
   "cell_type": "code",
   "execution_count": 43,
   "id": "b4a844c2",
   "metadata": {},
   "outputs": [
    {
     "data": {
      "text/html": [
       "<div>\n",
       "<style scoped>\n",
       "    .dataframe tbody tr th:only-of-type {\n",
       "        vertical-align: middle;\n",
       "    }\n",
       "\n",
       "    .dataframe tbody tr th {\n",
       "        vertical-align: top;\n",
       "    }\n",
       "\n",
       "    .dataframe thead th {\n",
       "        text-align: right;\n",
       "    }\n",
       "</style>\n",
       "<table border=\"1\" class=\"dataframe\">\n",
       "  <thead>\n",
       "    <tr style=\"text-align: right;\">\n",
       "      <th></th>\n",
       "      <th>iterations</th>\n",
       "      <th>test-Accuracy-mean</th>\n",
       "      <th>test-Accuracy-std</th>\n",
       "      <th>train-Accuracy-mean</th>\n",
       "      <th>train-Accuracy-std</th>\n",
       "      <th>test-MultiClass-mean</th>\n",
       "      <th>test-MultiClass-std</th>\n",
       "      <th>train-MultiClass-mean</th>\n",
       "      <th>train-MultiClass-std</th>\n",
       "    </tr>\n",
       "  </thead>\n",
       "  <tbody>\n",
       "    <tr>\n",
       "      <th>0</th>\n",
       "      <td>0</td>\n",
       "      <td>0.468792</td>\n",
       "      <td>0.085184</td>\n",
       "      <td>0.585608</td>\n",
       "      <td>0.051191</td>\n",
       "      <td>1.367076</td>\n",
       "      <td>0.004604</td>\n",
       "      <td>1.360304</td>\n",
       "      <td>0.003576</td>\n",
       "    </tr>\n",
       "    <tr>\n",
       "      <th>1</th>\n",
       "      <td>1</td>\n",
       "      <td>0.510146</td>\n",
       "      <td>0.050845</td>\n",
       "      <td>0.628646</td>\n",
       "      <td>0.026334</td>\n",
       "      <td>1.353188</td>\n",
       "      <td>0.003717</td>\n",
       "      <td>1.340273</td>\n",
       "      <td>0.006205</td>\n",
       "    </tr>\n",
       "    <tr>\n",
       "      <th>2</th>\n",
       "      <td>2</td>\n",
       "      <td>0.513631</td>\n",
       "      <td>0.026391</td>\n",
       "      <td>0.673699</td>\n",
       "      <td>0.025151</td>\n",
       "      <td>1.338848</td>\n",
       "      <td>0.003596</td>\n",
       "      <td>1.320342</td>\n",
       "      <td>0.004708</td>\n",
       "    </tr>\n",
       "    <tr>\n",
       "      <th>3</th>\n",
       "      <td>3</td>\n",
       "      <td>0.528409</td>\n",
       "      <td>0.041311</td>\n",
       "      <td>0.714720</td>\n",
       "      <td>0.019543</td>\n",
       "      <td>1.327522</td>\n",
       "      <td>0.004734</td>\n",
       "      <td>1.302151</td>\n",
       "      <td>0.004610</td>\n",
       "    </tr>\n",
       "    <tr>\n",
       "      <th>4</th>\n",
       "      <td>4</td>\n",
       "      <td>0.507391</td>\n",
       "      <td>0.036411</td>\n",
       "      <td>0.711696</td>\n",
       "      <td>0.004451</td>\n",
       "      <td>1.315977</td>\n",
       "      <td>0.005803</td>\n",
       "      <td>1.284309</td>\n",
       "      <td>0.006672</td>\n",
       "    </tr>\n",
       "    <tr>\n",
       "      <th>...</th>\n",
       "      <td>...</td>\n",
       "      <td>...</td>\n",
       "      <td>...</td>\n",
       "      <td>...</td>\n",
       "      <td>...</td>\n",
       "      <td>...</td>\n",
       "      <td>...</td>\n",
       "      <td>...</td>\n",
       "      <td>...</td>\n",
       "    </tr>\n",
       "    <tr>\n",
       "      <th>671</th>\n",
       "      <td>671</td>\n",
       "      <td>0.745108</td>\n",
       "      <td>0.042364</td>\n",
       "      <td>0.994004</td>\n",
       "      <td>0.002277</td>\n",
       "      <td>0.677873</td>\n",
       "      <td>0.069045</td>\n",
       "      <td>0.085237</td>\n",
       "      <td>0.023427</td>\n",
       "    </tr>\n",
       "    <tr>\n",
       "      <th>672</th>\n",
       "      <td>672</td>\n",
       "      <td>0.745108</td>\n",
       "      <td>0.042364</td>\n",
       "      <td>0.994004</td>\n",
       "      <td>0.002277</td>\n",
       "      <td>0.677784</td>\n",
       "      <td>0.069091</td>\n",
       "      <td>0.085201</td>\n",
       "      <td>0.023475</td>\n",
       "    </tr>\n",
       "    <tr>\n",
       "      <th>673</th>\n",
       "      <td>673</td>\n",
       "      <td>0.745108</td>\n",
       "      <td>0.042364</td>\n",
       "      <td>0.994004</td>\n",
       "      <td>0.002277</td>\n",
       "      <td>0.677802</td>\n",
       "      <td>0.069082</td>\n",
       "      <td>0.085192</td>\n",
       "      <td>0.023486</td>\n",
       "    </tr>\n",
       "    <tr>\n",
       "      <th>674</th>\n",
       "      <td>674</td>\n",
       "      <td>0.745108</td>\n",
       "      <td>0.042364</td>\n",
       "      <td>0.994004</td>\n",
       "      <td>0.002277</td>\n",
       "      <td>0.677810</td>\n",
       "      <td>0.069077</td>\n",
       "      <td>0.085177</td>\n",
       "      <td>0.023506</td>\n",
       "    </tr>\n",
       "    <tr>\n",
       "      <th>675</th>\n",
       "      <td>675</td>\n",
       "      <td>0.745108</td>\n",
       "      <td>0.042364</td>\n",
       "      <td>0.994004</td>\n",
       "      <td>0.002277</td>\n",
       "      <td>0.677739</td>\n",
       "      <td>0.069114</td>\n",
       "      <td>0.085162</td>\n",
       "      <td>0.023526</td>\n",
       "    </tr>\n",
       "  </tbody>\n",
       "</table>\n",
       "<p>676 rows × 9 columns</p>\n",
       "</div>"
      ],
      "text/plain": [
       "     iterations  test-Accuracy-mean  test-Accuracy-std  train-Accuracy-mean  \\\n",
       "0             0            0.468792           0.085184             0.585608   \n",
       "1             1            0.510146           0.050845             0.628646   \n",
       "2             2            0.513631           0.026391             0.673699   \n",
       "3             3            0.528409           0.041311             0.714720   \n",
       "4             4            0.507391           0.036411             0.711696   \n",
       "..          ...                 ...                ...                  ...   \n",
       "671         671            0.745108           0.042364             0.994004   \n",
       "672         672            0.745108           0.042364             0.994004   \n",
       "673         673            0.745108           0.042364             0.994004   \n",
       "674         674            0.745108           0.042364             0.994004   \n",
       "675         675            0.745108           0.042364             0.994004   \n",
       "\n",
       "     train-Accuracy-std  test-MultiClass-mean  test-MultiClass-std  \\\n",
       "0              0.051191              1.367076             0.004604   \n",
       "1              0.026334              1.353188             0.003717   \n",
       "2              0.025151              1.338848             0.003596   \n",
       "3              0.019543              1.327522             0.004734   \n",
       "4              0.004451              1.315977             0.005803   \n",
       "..                  ...                   ...                  ...   \n",
       "671            0.002277              0.677873             0.069045   \n",
       "672            0.002277              0.677784             0.069091   \n",
       "673            0.002277              0.677802             0.069082   \n",
       "674            0.002277              0.677810             0.069077   \n",
       "675            0.002277              0.677739             0.069114   \n",
       "\n",
       "     train-MultiClass-mean  train-MultiClass-std  \n",
       "0                 1.360304              0.003576  \n",
       "1                 1.340273              0.006205  \n",
       "2                 1.320342              0.004708  \n",
       "3                 1.302151              0.004610  \n",
       "4                 1.284309              0.006672  \n",
       "..                     ...                   ...  \n",
       "671               0.085237              0.023427  \n",
       "672               0.085201              0.023475  \n",
       "673               0.085192              0.023486  \n",
       "674               0.085177              0.023506  \n",
       "675               0.085162              0.023526  \n",
       "\n",
       "[676 rows x 9 columns]"
      ]
     },
     "execution_count": 43,
     "metadata": {},
     "output_type": "execute_result"
    }
   ],
   "source": [
    "cv_data"
   ]
  },
  {
   "cell_type": "code",
   "execution_count": 44,
   "id": "a75d2c49",
   "metadata": {},
   "outputs": [
    {
     "data": {
      "text/html": [
       "<div>\n",
       "<style scoped>\n",
       "    .dataframe tbody tr th:only-of-type {\n",
       "        vertical-align: middle;\n",
       "    }\n",
       "\n",
       "    .dataframe tbody tr th {\n",
       "        vertical-align: top;\n",
       "    }\n",
       "\n",
       "    .dataframe thead th {\n",
       "        text-align: right;\n",
       "    }\n",
       "</style>\n",
       "<table border=\"1\" class=\"dataframe\">\n",
       "  <thead>\n",
       "    <tr style=\"text-align: right;\">\n",
       "      <th></th>\n",
       "      <th>iterations</th>\n",
       "      <th>test-Accuracy-mean</th>\n",
       "      <th>test-Accuracy-std</th>\n",
       "      <th>train-Accuracy-mean</th>\n",
       "      <th>train-Accuracy-std</th>\n",
       "      <th>test-MultiClass-mean</th>\n",
       "      <th>test-MultiClass-std</th>\n",
       "      <th>train-MultiClass-mean</th>\n",
       "      <th>train-MultiClass-std</th>\n",
       "    </tr>\n",
       "  </thead>\n",
       "  <tbody>\n",
       "    <tr>\n",
       "      <th>377</th>\n",
       "      <td>377</td>\n",
       "      <td>0.748195</td>\n",
       "      <td>0.058556</td>\n",
       "      <td>0.988996</td>\n",
       "      <td>0.00196</td>\n",
       "      <td>0.718263</td>\n",
       "      <td>0.067744</td>\n",
       "      <td>0.139415</td>\n",
       "      <td>0.006837</td>\n",
       "    </tr>\n",
       "    <tr>\n",
       "      <th>378</th>\n",
       "      <td>378</td>\n",
       "      <td>0.748195</td>\n",
       "      <td>0.058556</td>\n",
       "      <td>0.988996</td>\n",
       "      <td>0.00196</td>\n",
       "      <td>0.718123</td>\n",
       "      <td>0.067445</td>\n",
       "      <td>0.138954</td>\n",
       "      <td>0.006770</td>\n",
       "    </tr>\n",
       "  </tbody>\n",
       "</table>\n",
       "</div>"
      ],
      "text/plain": [
       "     iterations  test-Accuracy-mean  test-Accuracy-std  train-Accuracy-mean  \\\n",
       "377         377            0.748195           0.058556             0.988996   \n",
       "378         378            0.748195           0.058556             0.988996   \n",
       "\n",
       "     train-Accuracy-std  test-MultiClass-mean  test-MultiClass-std  \\\n",
       "377             0.00196              0.718263             0.067744   \n",
       "378             0.00196              0.718123             0.067445   \n",
       "\n",
       "     train-MultiClass-mean  train-MultiClass-std  \n",
       "377               0.139415              0.006837  \n",
       "378               0.138954              0.006770  "
      ]
     },
     "execution_count": 44,
     "metadata": {},
     "output_type": "execute_result"
    }
   ],
   "source": [
    "cv_data[cv_data['test-Accuracy-mean'] == cv_data['test-Accuracy-mean'].max()]"
   ]
  },
  {
   "cell_type": "markdown",
   "id": "a17a6b63",
   "metadata": {},
   "source": [
    "Наилучший результат достигнут на 377 итерации. Обучим модель на полной выборке."
   ]
  },
  {
   "cell_type": "code",
   "execution_count": 45,
   "id": "986a69b9",
   "metadata": {},
   "outputs": [],
   "source": [
    "params = {\n",
    "    'eval_metric': 'Accuracy',\n",
    "    'loss_function': 'MultiClass',\n",
    "    'learning_rate': 0.03,\n",
    "    'random_seed': 323,\n",
    "    'verbose': False,\n",
    "    'n_estimators': 377\n",
    "}"
   ]
  },
  {
   "cell_type": "code",
   "execution_count": 46,
   "id": "59c1dbee",
   "metadata": {},
   "outputs": [],
   "source": [
    "model = CatBoostClassifier(**params)"
   ]
  },
  {
   "cell_type": "code",
   "execution_count": 47,
   "id": "a3528cdd",
   "metadata": {},
   "outputs": [
    {
     "data": {
      "text/plain": [
       "<catboost.core.CatBoostClassifier at 0x241fbff67c0>"
      ]
     },
     "execution_count": 47,
     "metadata": {},
     "output_type": "execute_result"
    }
   ],
   "source": [
    "model.fit(train_data)"
   ]
  },
  {
   "cell_type": "markdown",
   "id": "f2b4f01b",
   "metadata": {},
   "source": [
    "Сделаем предсказания на тестовой выборке, найдем accuracy и balanced_accuracy и выведем матрицу ошибок."
   ]
  },
  {
   "cell_type": "code",
   "execution_count": 48,
   "id": "191f0d7b",
   "metadata": {},
   "outputs": [],
   "source": [
    "y_pred = model.predict(test_data)"
   ]
  },
  {
   "cell_type": "code",
   "execution_count": 49,
   "id": "ac0bd433",
   "metadata": {},
   "outputs": [
    {
     "data": {
      "text/plain": [
       "0.7946428571428571"
      ]
     },
     "execution_count": 49,
     "metadata": {},
     "output_type": "execute_result"
    }
   ],
   "source": [
    "accuracy = accuracy_score(y_test, y_pred)\n",
    "accuracy"
   ]
  },
  {
   "cell_type": "code",
   "execution_count": 50,
   "id": "23af6ab6",
   "metadata": {},
   "outputs": [
    {
     "data": {
      "text/plain": [
       "0.7949404761904761"
      ]
     },
     "execution_count": 50,
     "metadata": {},
     "output_type": "execute_result"
    }
   ],
   "source": [
    "b_accuracy = balanced_accuracy_score(y_test, y_pred)\n",
    "b_accuracy"
   ]
  },
  {
   "cell_type": "code",
   "execution_count": 51,
   "id": "60874aff",
   "metadata": {
    "scrolled": false
   },
   "outputs": [
    {
     "data": {
      "image/png": "[encoded data removed]",
      "text/plain": [
       "<Figure size 1200x800 with 2 Axes>"
      ]
     },
     "metadata": {},
     "output_type": "display_data"
    }
   ],
   "source": [
    "fig, ax = plt.subplots(figsize=(12,8))\n",
    "cm = confusion_matrix(y_test, y_pred)\n",
    "cmp = ConfusionMatrixDisplay(cm, display_labels = model.classes_ )\n",
    "cmp.plot(ax=ax)\n",
    "plt.show()"
   ]
  },
  {
   "cell_type": "markdown",
   "id": "931410cc",
   "metadata": {},
   "source": [
    "На тестовой выборке достигнута довольно хорошая метрика, balanced accuracy равна 0.795."
   ]
  },
  {
   "cell_type": "markdown",
   "id": "75e7b9a8",
   "metadata": {},
   "source": [
    "Проверим, как модель предсказывает уровень по полным субтитрам."
   ]
  },
  {
   "cell_type": "code",
   "execution_count": 52,
   "id": "267f4343",
   "metadata": {},
   "outputs": [],
   "source": [
    "X_full, y_full = df['Subtitles'], df['Level']"
   ]
  },
  {
   "cell_type": "code",
   "execution_count": 53,
   "id": "e1998459",
   "metadata": {},
   "outputs": [],
   "source": [
    "X_full = vectorizer.transform(X_full)"
   ]
  },
  {
   "cell_type": "code",
   "execution_count": 54,
   "id": "f7018bc8",
   "metadata": {},
   "outputs": [],
   "source": [
    "y_pred_full = model.predict(X_full)"
   ]
  },
  {
   "cell_type": "code",
   "execution_count": 55,
   "id": "e70af6d8",
   "metadata": {
    "scrolled": true
   },
   "outputs": [
    {
     "data": {
      "text/plain": [
       "0.7895737767584098"
      ]
     },
     "execution_count": 55,
     "metadata": {},
     "output_type": "execute_result"
    }
   ],
   "source": [
    "b_accuracy = balanced_accuracy_score(y_full, y_pred_full)\n",
    "b_accuracy"
   ]
  },
  {
   "cell_type": "code",
   "execution_count": 56,
   "id": "f6885b75",
   "metadata": {},
   "outputs": [
    {
     "data": {
      "image/png": "[encoded data removed]",
      "text/plain": [
       "<Figure size 1200x800 with 2 Axes>"
      ]
     },
     "metadata": {},
     "output_type": "display_data"
    }
   ],
   "source": [
    "fig, ax = plt.subplots(figsize=(12,8))\n",
    "cm = confusion_matrix(y_full, y_pred_full)\n",
    "cmp = ConfusionMatrixDisplay(cm, display_labels = model.classes_ )\n",
    "cmp.plot(ax=ax)\n",
    "plt.show()"
   ]
  },
  {
   "cell_type": "markdown",
   "id": "b070cfc1",
   "metadata": {},
   "source": [
    "Получился сопоставимый результат."
   ]
  },
  {
   "cell_type": "markdown",
   "id": "27aafb55",
   "metadata": {},
   "source": [
    "#### RandomForest"
   ]
  },
  {
   "cell_type": "markdown",
   "id": "a49ac83c",
   "metadata": {},
   "source": [
    "Также обучим модель случайного леса. Для подбора гиперпараметров воспользуемся optuna."
   ]
  },
  {
   "cell_type": "code",
   "execution_count": 57,
   "id": "3c5bba8e",
   "metadata": {},
   "outputs": [],
   "source": [
    "def objective(trial):\n",
    "    params = {\n",
    "        'n_estimators': trial.suggest_int('n_estimators', 100, 1000),\n",
    "        'max_depth': trial.suggest_int('max_depth', 3, 50),\n",
    "        'min_samples_split': trial.suggest_int('min_samples_split', 2, 10),\n",
    "        'min_samples_leaf': trial.suggest_int('min_samples_leaf', 1, 10),\n",
    "        'max_features': trial.suggest_categorical('max_features', ['auto', 'sqrt', 'log2'])\n",
    "    }\n",
    "    model = RandomForestClassifier(**params)\n",
    "    scores = cross_val_score(model, X_train, y_train, cv=4, scoring='balanced_accuracy')\n",
    "    return scores.mean()"
   ]
  },
  {
   "cell_type": "code",
   "execution_count": 58,
   "id": "a377f2be",
   "metadata": {
    "scrolled": true
   },
   "outputs": [
    {
     "name": "stderr",
     "output_type": "stream",
     "text": [
      "\u001b[32m[I 2023-06-19 21:22:09,112]\u001b[0m A new study created in memory with name: no-name-7cae1b0f-8ba7-4eed-bc04-69fb345b7e10\u001b[0m\n",
      "\u001b[32m[I 2023-06-19 21:22:11,060]\u001b[0m Trial 0 finished with value: 0.7413304238032499 and parameters: {'n_estimators': 352, 'max_depth': 17, 'min_samples_split': 3, 'min_samples_leaf': 6, 'max_features': 'auto'}. Best is trial 0 with value: 0.7413304238032499.\u001b[0m\n",
      "\u001b[32m[I 2023-06-19 21:22:12,133]\u001b[0m Trial 1 finished with value: 0.6985873878536921 and parameters: {'n_estimators': 218, 'max_depth': 36, 'min_samples_split': 7, 'min_samples_leaf': 10, 'max_features': 'sqrt'}. Best is trial 0 with value: 0.7413304238032499.\u001b[0m\n",
      "\u001b[32m[I 2023-06-19 21:22:13,901]\u001b[0m Trial 2 finished with value: 0.6220132222849615 and parameters: {'n_estimators': 506, 'max_depth': 22, 'min_samples_split': 3, 'min_samples_leaf': 7, 'max_features': 'log2'}. Best is trial 0 with value: 0.7413304238032499.\u001b[0m\n",
      "\u001b[32m[I 2023-06-19 21:22:15,307]\u001b[0m Trial 3 finished with value: 0.7367388951628082 and parameters: {'n_estimators': 230, 'max_depth': 25, 'min_samples_split': 10, 'min_samples_leaf': 4, 'max_features': 'auto'}. Best is trial 0 with value: 0.7413304238032499.\u001b[0m\n",
      "\u001b[32m[I 2023-06-19 21:22:18,596]\u001b[0m Trial 4 finished with value: 0.6161961227178618 and parameters: {'n_estimators': 982, 'max_depth': 47, 'min_samples_split': 9, 'min_samples_leaf': 8, 'max_features': 'log2'}. Best is trial 0 with value: 0.7413304238032499.\u001b[0m\n",
      "\u001b[32m[I 2023-06-19 21:22:19,512]\u001b[0m Trial 5 finished with value: 0.7460337066315327 and parameters: {'n_estimators': 169, 'max_depth': 48, 'min_samples_split': 4, 'min_samples_leaf': 7, 'max_features': 'auto'}. Best is trial 5 with value: 0.7460337066315327.\u001b[0m\n",
      "\u001b[32m[I 2023-06-19 21:22:20,005]\u001b[0m Trial 6 finished with value: 0.5851092446201142 and parameters: {'n_estimators': 139, 'max_depth': 8, 'min_samples_split': 8, 'min_samples_leaf': 8, 'max_features': 'log2'}. Best is trial 5 with value: 0.7460337066315327.\u001b[0m\n",
      "\u001b[32m[I 2023-06-19 21:22:25,245]\u001b[0m Trial 7 finished with value: 0.7450632097371228 and parameters: {'n_estimators': 963, 'max_depth': 22, 'min_samples_split': 2, 'min_samples_leaf': 6, 'max_features': 'sqrt'}. Best is trial 5 with value: 0.7460337066315327.\u001b[0m\n",
      "\u001b[32m[I 2023-06-19 21:22:31,022]\u001b[0m Trial 8 finished with value: 0.753636324424368 and parameters: {'n_estimators': 518, 'max_depth': 48, 'min_samples_split': 6, 'min_samples_leaf': 1, 'max_features': 'log2'}. Best is trial 8 with value: 0.753636324424368.\u001b[0m\n",
      "\u001b[32m[I 2023-06-19 21:22:34,086]\u001b[0m Trial 9 finished with value: 0.7478690240918502 and parameters: {'n_estimators': 378, 'max_depth': 24, 'min_samples_split': 3, 'min_samples_leaf': 2, 'max_features': 'sqrt'}. Best is trial 8 with value: 0.753636324424368.\u001b[0m\n",
      "\u001b[32m[I 2023-06-19 21:22:42,785]\u001b[0m Trial 10 finished with value: 0.7571716779597214 and parameters: {'n_estimators': 765, 'max_depth': 36, 'min_samples_split': 5, 'min_samples_leaf': 1, 'max_features': 'log2'}. Best is trial 10 with value: 0.7571716779597214.\u001b[0m\n",
      "\u001b[32m[I 2023-06-19 21:22:51,430]\u001b[0m Trial 11 finished with value: 0.7744778922768053 and parameters: {'n_estimators': 757, 'max_depth': 36, 'min_samples_split': 5, 'min_samples_leaf': 1, 'max_features': 'log2'}. Best is trial 11 with value: 0.7744778922768053.\u001b[0m\n",
      "\u001b[32m[I 2023-06-19 21:22:54,258]\u001b[0m Trial 12 finished with value: 0.6320771770500032 and parameters: {'n_estimators': 771, 'max_depth': 36, 'min_samples_split': 5, 'min_samples_leaf': 3, 'max_features': 'log2'}. Best is trial 11 with value: 0.7744778922768053.\u001b[0m\n",
      "\u001b[32m[I 2023-06-19 21:23:02,460]\u001b[0m Trial 13 finished with value: 0.7869175058033753 and parameters: {'n_estimators': 725, 'max_depth': 36, 'min_samples_split': 5, 'min_samples_leaf': 1, 'max_features': 'log2'}. Best is trial 13 with value: 0.7869175058033753.\u001b[0m\n",
      "\u001b[32m[I 2023-06-19 21:23:05,022]\u001b[0m Trial 14 finished with value: 0.6133552136269528 and parameters: {'n_estimators': 725, 'max_depth': 32, 'min_samples_split': 6, 'min_samples_leaf': 4, 'max_features': 'log2'}. Best is trial 13 with value: 0.7869175058033753.\u001b[0m\n",
      "\u001b[32m[I 2023-06-19 21:23:07,514]\u001b[0m Trial 15 finished with value: 0.6182739663717925 and parameters: {'n_estimators': 681, 'max_depth': 42, 'min_samples_split': 5, 'min_samples_leaf': 3, 'max_features': 'log2'}. Best is trial 13 with value: 0.7869175058033753.\u001b[0m\n",
      "\u001b[32m[I 2023-06-19 21:23:16,927]\u001b[0m Trial 16 finished with value: 0.7741306700545831 and parameters: {'n_estimators': 884, 'max_depth': 32, 'min_samples_split': 7, 'min_samples_leaf': 1, 'max_features': 'log2'}. Best is trial 13 with value: 0.7869175058033753.\u001b[0m\n",
      "\u001b[32m[I 2023-06-19 21:23:19,242]\u001b[0m Trial 17 finished with value: 0.6384273636991028 and parameters: {'n_estimators': 622, 'max_depth': 42, 'min_samples_split': 4, 'min_samples_leaf': 3, 'max_features': 'log2'}. Best is trial 13 with value: 0.7869175058033753.\u001b[0m\n",
      "\u001b[32m[I 2023-06-19 21:23:25,530]\u001b[0m Trial 18 finished with value: 0.7527742486981617 and parameters: {'n_estimators': 842, 'max_depth': 14, 'min_samples_split': 7, 'min_samples_leaf': 2, 'max_features': 'auto'}. Best is trial 13 with value: 0.7869175058033753.\u001b[0m\n",
      "\u001b[32m[I 2023-06-19 21:23:29,200]\u001b[0m Trial 19 finished with value: 0.7365502854633289 and parameters: {'n_estimators': 596, 'max_depth': 30, 'min_samples_split': 5, 'min_samples_leaf': 4, 'max_features': 'sqrt'}. Best is trial 13 with value: 0.7869175058033753.\u001b[0m\n",
      "\u001b[32m[I 2023-06-19 21:23:32,281]\u001b[0m Trial 20 finished with value: 0.5992371306230002 and parameters: {'n_estimators': 859, 'max_depth': 41, 'min_samples_split': 4, 'min_samples_leaf': 5, 'max_features': 'log2'}. Best is trial 13 with value: 0.7869175058033753.\u001b[0m\n",
      "\u001b[32m[I 2023-06-19 21:23:42,160]\u001b[0m Trial 21 finished with value: 0.7909779079616036 and parameters: {'n_estimators': 869, 'max_depth': 31, 'min_samples_split': 7, 'min_samples_leaf': 1, 'max_features': 'log2'}. Best is trial 21 with value: 0.7909779079616036.\u001b[0m\n",
      "\u001b[32m[I 2023-06-19 21:23:44,891]\u001b[0m Trial 22 finished with value: 0.6961456568793525 and parameters: {'n_estimators': 669, 'max_depth': 28, 'min_samples_split': 6, 'min_samples_leaf': 2, 'max_features': 'log2'}. Best is trial 21 with value: 0.7909779079616036.\u001b[0m\n",
      "\u001b[32m[I 2023-06-19 21:23:54,203]\u001b[0m Trial 23 finished with value: 0.76114365706757 and parameters: {'n_estimators': 813, 'max_depth': 38, 'min_samples_split': 8, 'min_samples_leaf': 1, 'max_features': 'log2'}. Best is trial 21 with value: 0.7909779079616036.\u001b[0m\n",
      "\u001b[32m[I 2023-06-19 21:23:57,879]\u001b[0m Trial 24 finished with value: 0.6870267112114938 and parameters: {'n_estimators': 927, 'max_depth': 33, 'min_samples_split': 8, 'min_samples_leaf': 2, 'max_features': 'log2'}. Best is trial 21 with value: 0.7909779079616036.\u001b[0m\n",
      "\u001b[32m[I 2023-06-19 21:24:00,414]\u001b[0m Trial 25 finished with value: 0.5995465132693394 and parameters: {'n_estimators': 726, 'max_depth': 3, 'min_samples_split': 7, 'min_samples_leaf': 1, 'max_features': 'log2'}. Best is trial 21 with value: 0.7909779079616036.\u001b[0m\n",
      "\u001b[32m[I 2023-06-19 21:24:04,059]\u001b[0m Trial 26 finished with value: 0.6816372184578706 and parameters: {'n_estimators': 912, 'max_depth': 40, 'min_samples_split': 6, 'min_samples_leaf': 2, 'max_features': 'log2'}. Best is trial 21 with value: 0.7909779079616036.\u001b[0m\n",
      "\u001b[32m[I 2023-06-19 21:24:10,042]\u001b[0m Trial 27 finished with value: 0.7402246455235586 and parameters: {'n_estimators': 808, 'max_depth': 44, 'min_samples_split': 4, 'min_samples_leaf': 3, 'max_features': 'auto'}. Best is trial 21 with value: 0.7909779079616036.\u001b[0m\n",
      "\u001b[32m[I 2023-06-19 21:24:11,662]\u001b[0m Trial 28 finished with value: 0.5996700310559007 and parameters: {'n_estimators': 472, 'max_depth': 28, 'min_samples_split': 9, 'min_samples_leaf': 10, 'max_features': 'log2'}. Best is trial 21 with value: 0.7909779079616036.\u001b[0m\n",
      "\u001b[32m[I 2023-06-19 21:24:15,193]\u001b[0m Trial 29 finished with value: 0.7543056731915428 and parameters: {'n_estimators': 599, 'max_depth': 15, 'min_samples_split': 2, 'min_samples_leaf': 5, 'max_features': 'sqrt'}. Best is trial 21 with value: 0.7909779079616036.\u001b[0m\n",
      "\u001b[32m[I 2023-06-19 21:24:24,802]\u001b[0m Trial 30 finished with value: 0.7478437323546019 and parameters: {'n_estimators': 678, 'max_depth': 18, 'min_samples_split': 5, 'min_samples_leaf': 1, 'max_features': 'auto'}. Best is trial 21 with value: 0.7909779079616036.\u001b[0m\n"
     ]
    },
    {
     "name": "stderr",
     "output_type": "stream",
     "text": [
      "\u001b[32m[I 2023-06-19 21:24:35,012]\u001b[0m Trial 31 finished with value: 0.777479374490244 and parameters: {'n_estimators': 917, 'max_depth': 33, 'min_samples_split': 7, 'min_samples_leaf': 1, 'max_features': 'log2'}. Best is trial 21 with value: 0.7909779079616036.\u001b[0m\n",
      "\u001b[32m[I 2023-06-19 21:24:39,030]\u001b[0m Trial 32 finished with value: 0.6896088211305602 and parameters: {'n_estimators': 986, 'max_depth': 35, 'min_samples_split': 7, 'min_samples_leaf': 2, 'max_features': 'log2'}. Best is trial 21 with value: 0.7909779079616036.\u001b[0m\n",
      "\u001b[32m[I 2023-06-19 21:24:48,736]\u001b[0m Trial 33 finished with value: 0.7589989569609135 and parameters: {'n_estimators': 893, 'max_depth': 30, 'min_samples_split': 6, 'min_samples_leaf': 1, 'max_features': 'log2'}. Best is trial 21 with value: 0.7909779079616036.\u001b[0m\n",
      "\u001b[32m[I 2023-06-19 21:24:51,714]\u001b[0m Trial 34 finished with value: 0.6932027965995358 and parameters: {'n_estimators': 771, 'max_depth': 37, 'min_samples_split': 7, 'min_samples_leaf': 2, 'max_features': 'log2'}. Best is trial 21 with value: 0.7909779079616036.\u001b[0m\n",
      "\u001b[32m[I 2023-06-19 21:24:55,201]\u001b[0m Trial 35 finished with value: 0.6179763473241734 and parameters: {'n_estimators': 938, 'max_depth': 34, 'min_samples_split': 8, 'min_samples_leaf': 3, 'max_features': 'log2'}. Best is trial 21 with value: 0.7909779079616036.\u001b[0m\n",
      "\u001b[32m[I 2023-06-19 21:25:04,494]\u001b[0m Trial 36 finished with value: 0.7689799783549783 and parameters: {'n_estimators': 832, 'max_depth': 45, 'min_samples_split': 9, 'min_samples_leaf': 1, 'max_features': 'log2'}. Best is trial 21 with value: 0.7909779079616036.\u001b[0m\n",
      "\u001b[32m[I 2023-06-19 21:25:06,867]\u001b[0m Trial 37 finished with value: 0.7262967406989147 and parameters: {'n_estimators': 443, 'max_depth': 26, 'min_samples_split': 6, 'min_samples_leaf': 9, 'max_features': 'sqrt'}. Best is trial 21 with value: 0.7909779079616036.\u001b[0m\n",
      "\u001b[32m[I 2023-06-19 21:25:11,762]\u001b[0m Trial 38 finished with value: 0.7611852217830479 and parameters: {'n_estimators': 731, 'max_depth': 29, 'min_samples_split': 3, 'min_samples_leaf': 4, 'max_features': 'auto'}. Best is trial 21 with value: 0.7909779079616036.\u001b[0m\n",
      "\u001b[32m[I 2023-06-19 21:25:15,137]\u001b[0m Trial 39 finished with value: 0.6131946405044231 and parameters: {'n_estimators': 995, 'max_depth': 38, 'min_samples_split': 10, 'min_samples_leaf': 7, 'max_features': 'log2'}. Best is trial 21 with value: 0.7909779079616036.\u001b[0m\n",
      "\u001b[32m[I 2023-06-19 21:25:16,291]\u001b[0m Trial 40 finished with value: 0.6747241436100131 and parameters: {'n_estimators': 291, 'max_depth': 50, 'min_samples_split': 5, 'min_samples_leaf': 2, 'max_features': 'log2'}. Best is trial 21 with value: 0.7909779079616036.\u001b[0m\n",
      "\u001b[32m[I 2023-06-19 21:25:25,546]\u001b[0m Trial 41 finished with value: 0.7849118122215948 and parameters: {'n_estimators': 875, 'max_depth': 31, 'min_samples_split': 7, 'min_samples_leaf': 1, 'max_features': 'log2'}. Best is trial 21 with value: 0.7909779079616036.\u001b[0m\n",
      "\u001b[32m[I 2023-06-19 21:25:33,444]\u001b[0m Trial 42 finished with value: 0.7812790168768429 and parameters: {'n_estimators': 882, 'max_depth': 23, 'min_samples_split': 7, 'min_samples_leaf': 1, 'max_features': 'log2'}. Best is trial 21 with value: 0.7909779079616036.\u001b[0m\n",
      "\u001b[32m[I 2023-06-19 21:25:41,203]\u001b[0m Trial 43 finished with value: 0.7828592603049125 and parameters: {'n_estimators': 947, 'max_depth': 21, 'min_samples_split': 7, 'min_samples_leaf': 1, 'max_features': 'log2'}. Best is trial 21 with value: 0.7909779079616036.\u001b[0m\n",
      "\u001b[32m[I 2023-06-19 21:25:44,564]\u001b[0m Trial 44 finished with value: 0.6873856970324361 and parameters: {'n_estimators': 873, 'max_depth': 19, 'min_samples_split': 8, 'min_samples_leaf': 2, 'max_features': 'log2'}. Best is trial 21 with value: 0.7909779079616036.\u001b[0m\n",
      "\u001b[32m[I 2023-06-19 21:25:53,105]\u001b[0m Trial 45 finished with value: 0.7726443393562958 and parameters: {'n_estimators': 950, 'max_depth': 23, 'min_samples_split': 9, 'min_samples_leaf': 1, 'max_features': 'log2'}. Best is trial 21 with value: 0.7909779079616036.\u001b[0m\n",
      "\u001b[32m[I 2023-06-19 21:25:58,690]\u001b[0m Trial 46 finished with value: 0.7486356186084447 and parameters: {'n_estimators': 810, 'max_depth': 21, 'min_samples_split': 7, 'min_samples_leaf': 3, 'max_features': 'sqrt'}. Best is trial 21 with value: 0.7909779079616036.\u001b[0m\n",
      "\u001b[32m[I 2023-06-19 21:26:01,642]\u001b[0m Trial 47 finished with value: 0.602238612836439 and parameters: {'n_estimators': 868, 'max_depth': 25, 'min_samples_split': 8, 'min_samples_leaf': 8, 'max_features': 'log2'}. Best is trial 21 with value: 0.7909779079616036.\u001b[0m\n",
      "\u001b[32m[I 2023-06-19 21:26:06,217]\u001b[0m Trial 48 finished with value: 0.7360907208733296 and parameters: {'n_estimators': 964, 'max_depth': 11, 'min_samples_split': 6, 'min_samples_leaf': 1, 'max_features': 'log2'}. Best is trial 21 with value: 0.7909779079616036.\u001b[0m\n",
      "\u001b[32m[I 2023-06-19 21:26:09,262]\u001b[0m Trial 49 finished with value: 0.6732929057657319 and parameters: {'n_estimators': 801, 'max_depth': 20, 'min_samples_split': 8, 'min_samples_leaf': 2, 'max_features': 'log2'}. Best is trial 21 with value: 0.7909779079616036.\u001b[0m\n",
      "\u001b[32m[I 2023-06-19 21:26:21,512]\u001b[0m Trial 50 finished with value: 0.7636067585795846 and parameters: {'n_estimators': 895, 'max_depth': 16, 'min_samples_split': 7, 'min_samples_leaf': 1, 'max_features': 'auto'}. Best is trial 21 with value: 0.7909779079616036.\u001b[0m\n",
      "\u001b[32m[I 2023-06-19 21:26:31,234]\u001b[0m Trial 51 finished with value: 0.7805159514398643 and parameters: {'n_estimators': 923, 'max_depth': 31, 'min_samples_split': 7, 'min_samples_leaf': 1, 'max_features': 'log2'}. Best is trial 21 with value: 0.7909779079616036.\u001b[0m\n",
      "\u001b[32m[I 2023-06-19 21:26:40,117]\u001b[0m Trial 52 finished with value: 0.772819420917247 and parameters: {'n_estimators': 851, 'max_depth': 31, 'min_samples_split': 7, 'min_samples_leaf': 1, 'max_features': 'log2'}. Best is trial 21 with value: 0.7909779079616036.\u001b[0m\n",
      "\u001b[32m[I 2023-06-19 21:26:43,726]\u001b[0m Trial 53 finished with value: 0.7030485366083192 and parameters: {'n_estimators': 947, 'max_depth': 27, 'min_samples_split': 6, 'min_samples_leaf': 2, 'max_features': 'log2'}. Best is trial 21 with value: 0.7909779079616036.\u001b[0m\n",
      "\u001b[32m[I 2023-06-19 21:26:52,893]\u001b[0m Trial 54 finished with value: 0.777703078925905 and parameters: {'n_estimators': 995, 'max_depth': 24, 'min_samples_split': 6, 'min_samples_leaf': 1, 'max_features': 'log2'}. Best is trial 21 with value: 0.7909779079616036.\u001b[0m\n",
      "\u001b[32m[I 2023-06-19 21:26:56,298]\u001b[0m Trial 55 finished with value: 0.7062872513959471 and parameters: {'n_estimators': 897, 'max_depth': 23, 'min_samples_split': 7, 'min_samples_leaf': 2, 'max_features': 'log2'}. Best is trial 21 with value: 0.7909779079616036.\u001b[0m\n",
      "\u001b[32m[I 2023-06-19 21:27:03,696]\u001b[0m Trial 56 finished with value: 0.7763520296128992 and parameters: {'n_estimators': 772, 'max_depth': 26, 'min_samples_split': 7, 'min_samples_leaf': 1, 'max_features': 'log2'}. Best is trial 21 with value: 0.7909779079616036.\u001b[0m\n",
      "\u001b[32m[I 2023-06-19 21:27:06,716]\u001b[0m Trial 57 finished with value: 0.6197232417341113 and parameters: {'n_estimators': 836, 'max_depth': 31, 'min_samples_split': 8, 'min_samples_leaf': 3, 'max_features': 'log2'}. Best is trial 21 with value: 0.7909779079616036.\u001b[0m\n",
      "\u001b[32m[I 2023-06-19 21:27:12,043]\u001b[0m Trial 58 finished with value: 0.7393560998180564 and parameters: {'n_estimators': 700, 'max_depth': 35, 'min_samples_split': 6, 'min_samples_leaf': 2, 'max_features': 'sqrt'}. Best is trial 21 with value: 0.7909779079616036.\u001b[0m\n",
      "\u001b[32m[I 2023-06-19 21:27:23,070]\u001b[0m Trial 59 finished with value: 0.7765143672752368 and parameters: {'n_estimators': 926, 'max_depth': 39, 'min_samples_split': 5, 'min_samples_leaf': 1, 'max_features': 'log2'}. Best is trial 21 with value: 0.7909779079616036.\u001b[0m\n",
      "\u001b[32m[I 2023-06-19 21:27:24,960]\u001b[0m Trial 60 finished with value: 0.6080439488048184 and parameters: {'n_estimators': 533, 'max_depth': 21, 'min_samples_split': 6, 'min_samples_leaf': 6, 'max_features': 'log2'}. Best is trial 21 with value: 0.7909779079616036.\u001b[0m\n",
      "\u001b[32m[I 2023-06-19 21:27:34,118]\u001b[0m Trial 61 finished with value: 0.7879311358930923 and parameters: {'n_estimators': 994, 'max_depth': 24, 'min_samples_split': 6, 'min_samples_leaf': 1, 'max_features': 'log2'}. Best is trial 21 with value: 0.7909779079616036.\u001b[0m\n"
     ]
    },
    {
     "name": "stderr",
     "output_type": "stream",
     "text": [
      "\u001b[32m[I 2023-06-19 21:27:44,055]\u001b[0m Trial 62 finished with value: 0.7721132128740824 and parameters: {'n_estimators': 969, 'max_depth': 28, 'min_samples_split': 7, 'min_samples_leaf': 1, 'max_features': 'log2'}. Best is trial 21 with value: 0.7909779079616036.\u001b[0m\n",
      "\u001b[32m[I 2023-06-19 21:27:53,189]\u001b[0m Trial 63 finished with value: 0.7631197455925716 and parameters: {'n_estimators': 956, 'max_depth': 25, 'min_samples_split': 7, 'min_samples_leaf': 1, 'max_features': 'log2'}. Best is trial 21 with value: 0.7909779079616036.\u001b[0m\n",
      "\u001b[32m[I 2023-06-19 21:27:56,585]\u001b[0m Trial 64 finished with value: 0.6815315421293683 and parameters: {'n_estimators': 871, 'max_depth': 33, 'min_samples_split': 8, 'min_samples_leaf': 2, 'max_features': 'log2'}. Best is trial 21 with value: 0.7909779079616036.\u001b[0m\n",
      "\u001b[32m[I 2023-06-19 21:28:06,453]\u001b[0m Trial 65 finished with value: 0.7781106876215572 and parameters: {'n_estimators': 933, 'max_depth': 29, 'min_samples_split': 4, 'min_samples_leaf': 1, 'max_features': 'log2'}. Best is trial 21 with value: 0.7909779079616036.\u001b[0m\n",
      "\u001b[32m[I 2023-06-19 21:28:10,043]\u001b[0m Trial 66 finished with value: 0.6722539839387666 and parameters: {'n_estimators': 911, 'max_depth': 18, 'min_samples_split': 6, 'min_samples_leaf': 2, 'max_features': 'log2'}. Best is trial 21 with value: 0.7909779079616036.\u001b[0m\n",
      "\u001b[32m[I 2023-06-19 21:28:20,976]\u001b[0m Trial 67 finished with value: 0.7575659545768242 and parameters: {'n_estimators': 834, 'max_depth': 13, 'min_samples_split': 5, 'min_samples_leaf': 1, 'max_features': 'auto'}. Best is trial 21 with value: 0.7909779079616036.\u001b[0m\n",
      "\u001b[32m[I 2023-06-19 21:28:23,528]\u001b[0m Trial 68 finished with value: 0.69231268429638 and parameters: {'n_estimators': 648, 'max_depth': 22, 'min_samples_split': 7, 'min_samples_leaf': 2, 'max_features': 'log2'}. Best is trial 21 with value: 0.7909779079616036.\u001b[0m\n",
      "\u001b[32m[I 2023-06-19 21:28:31,941]\u001b[0m Trial 69 finished with value: 0.7672213203463203 and parameters: {'n_estimators': 785, 'max_depth': 31, 'min_samples_split': 8, 'min_samples_leaf': 1, 'max_features': 'log2'}. Best is trial 21 with value: 0.7909779079616036.\u001b[0m\n",
      "\u001b[32m[I 2023-06-19 21:28:35,638]\u001b[0m Trial 70 finished with value: 0.6325100774829036 and parameters: {'n_estimators': 999, 'max_depth': 27, 'min_samples_split': 5, 'min_samples_leaf': 3, 'max_features': 'log2'}. Best is trial 21 with value: 0.7909779079616036.\u001b[0m\n",
      "\u001b[32m[I 2023-06-19 21:28:36,797]\u001b[0m Trial 71 finished with value: 0.7315368357487922 and parameters: {'n_estimators': 101, 'max_depth': 30, 'min_samples_split': 3, 'min_samples_leaf': 1, 'max_features': 'log2'}. Best is trial 21 with value: 0.7909779079616036.\u001b[0m\n",
      "\u001b[32m[I 2023-06-19 21:28:46,563]\u001b[0m Trial 72 finished with value: 0.7629040796160362 and parameters: {'n_estimators': 919, 'max_depth': 29, 'min_samples_split': 4, 'min_samples_leaf': 1, 'max_features': 'log2'}. Best is trial 21 with value: 0.7909779079616036.\u001b[0m\n",
      "\u001b[32m[I 2023-06-19 21:28:57,340]\u001b[0m Trial 73 finished with value: 0.7763773213501474 and parameters: {'n_estimators': 968, 'max_depth': 35, 'min_samples_split': 6, 'min_samples_leaf': 1, 'max_features': 'log2'}. Best is trial 21 with value: 0.7909779079616036.\u001b[0m\n",
      "\u001b[32m[I 2023-06-19 21:29:01,113]\u001b[0m Trial 74 finished with value: 0.7118735883681535 and parameters: {'n_estimators': 937, 'max_depth': 32, 'min_samples_split': 7, 'min_samples_leaf': 2, 'max_features': 'log2'}. Best is trial 21 with value: 0.7909779079616036.\u001b[0m\n",
      "\u001b[32m[I 2023-06-19 21:29:09,508]\u001b[0m Trial 75 finished with value: 0.7775677975406234 and parameters: {'n_estimators': 890, 'max_depth': 24, 'min_samples_split': 4, 'min_samples_leaf': 1, 'max_features': 'log2'}. Best is trial 21 with value: 0.7909779079616036.\u001b[0m\n",
      "\u001b[32m[I 2023-06-19 21:29:20,126]\u001b[0m Trial 76 finished with value: 0.7398774233013363 and parameters: {'n_estimators': 739, 'max_depth': 28, 'min_samples_split': 4, 'min_samples_leaf': 1, 'max_features': 'sqrt'}. Best is trial 21 with value: 0.7909779079616036.\u001b[0m\n",
      "\u001b[32m[I 2023-06-19 21:29:23,425]\u001b[0m Trial 77 finished with value: 0.6861483625070581 and parameters: {'n_estimators': 847, 'max_depth': 37, 'min_samples_split': 7, 'min_samples_leaf': 2, 'max_features': 'log2'}. Best is trial 21 with value: 0.7909779079616036.\u001b[0m\n",
      "\u001b[32m[I 2023-06-19 21:29:26,917]\u001b[0m Trial 78 finished with value: 0.7064621368969195 and parameters: {'n_estimators': 878, 'max_depth': 33, 'min_samples_split': 5, 'min_samples_leaf': 2, 'max_features': 'log2'}. Best is trial 21 with value: 0.7909779079616036.\u001b[0m\n",
      "\u001b[32m[I 2023-06-19 21:29:40,166]\u001b[0m Trial 79 finished with value: 0.7673630717108979 and parameters: {'n_estimators': 938, 'max_depth': 29, 'min_samples_split': 6, 'min_samples_leaf': 1, 'max_features': 'auto'}. Best is trial 21 with value: 0.7909779079616036.\u001b[0m\n",
      "\u001b[32m[I 2023-06-19 21:29:43,641]\u001b[0m Trial 80 finished with value: 0.6223226049313006 and parameters: {'n_estimators': 974, 'max_depth': 20, 'min_samples_split': 4, 'min_samples_leaf': 5, 'max_features': 'log2'}. Best is trial 21 with value: 0.7909779079616036.\u001b[0m\n",
      "\u001b[32m[I 2023-06-19 21:29:52,819]\u001b[0m Trial 81 finished with value: 0.7989124552983248 and parameters: {'n_estimators': 996, 'max_depth': 24, 'min_samples_split': 6, 'min_samples_leaf': 1, 'max_features': 'log2'}. Best is trial 81 with value: 0.7989124552983248.\u001b[0m\n",
      "\u001b[32m[I 2023-06-19 21:30:01,693]\u001b[0m Trial 82 finished with value: 0.7681529973649538 and parameters: {'n_estimators': 909, 'max_depth': 26, 'min_samples_split': 6, 'min_samples_leaf': 1, 'max_features': 'log2'}. Best is trial 81 with value: 0.7989124552983248.\u001b[0m\n",
      "\u001b[32m[I 2023-06-19 21:30:10,460]\u001b[0m Trial 83 finished with value: 0.7839964081811908 and parameters: {'n_estimators': 977, 'max_depth': 23, 'min_samples_split': 7, 'min_samples_leaf': 1, 'max_features': 'log2'}. Best is trial 81 with value: 0.7989124552983248.\u001b[0m\n",
      "\u001b[32m[I 2023-06-19 21:30:19,048]\u001b[0m Trial 84 finished with value: 0.7690252682100508 and parameters: {'n_estimators': 978, 'max_depth': 23, 'min_samples_split': 7, 'min_samples_leaf': 1, 'max_features': 'log2'}. Best is trial 81 with value: 0.7989124552983248.\u001b[0m\n",
      "\u001b[32m[I 2023-06-19 21:30:27,390]\u001b[0m Trial 85 finished with value: 0.787086313445009 and parameters: {'n_estimators': 997, 'max_depth': 21, 'min_samples_split': 7, 'min_samples_leaf': 1, 'max_features': 'log2'}. Best is trial 81 with value: 0.7989124552983248.\u001b[0m\n",
      "\u001b[32m[I 2023-06-19 21:30:31,318]\u001b[0m Trial 86 finished with value: 0.683913474810214 and parameters: {'n_estimators': 997, 'max_depth': 17, 'min_samples_split': 7, 'min_samples_leaf': 2, 'max_features': 'log2'}. Best is trial 81 with value: 0.7989124552983248.\u001b[0m\n",
      "\u001b[32m[I 2023-06-19 21:30:38,073]\u001b[0m Trial 87 finished with value: 0.7739404918752745 and parameters: {'n_estimators': 821, 'max_depth': 21, 'min_samples_split': 6, 'min_samples_leaf': 1, 'max_features': 'log2'}. Best is trial 81 with value: 0.7989124552983248.\u001b[0m\n",
      "\u001b[32m[I 2023-06-19 21:30:41,752]\u001b[0m Trial 88 finished with value: 0.6851445354162746 and parameters: {'n_estimators': 948, 'max_depth': 24, 'min_samples_split': 7, 'min_samples_leaf': 2, 'max_features': 'log2'}. Best is trial 81 with value: 0.7989124552983248.\u001b[0m\n",
      "\u001b[32m[I 2023-06-19 21:30:55,273]\u001b[0m Trial 89 finished with value: 0.764714301399084 and parameters: {'n_estimators': 977, 'max_depth': 19, 'min_samples_split': 8, 'min_samples_leaf': 1, 'max_features': 'sqrt'}. Best is trial 81 with value: 0.7989124552983248.\u001b[0m\n",
      "\u001b[32m[I 2023-06-19 21:31:02,318]\u001b[0m Trial 90 finished with value: 0.7671511308739569 and parameters: {'n_estimators': 863, 'max_depth': 20, 'min_samples_split': 6, 'min_samples_leaf': 1, 'max_features': 'log2'}. Best is trial 81 with value: 0.7989124552983248.\u001b[0m\n",
      "\u001b[32m[I 2023-06-19 21:31:10,831]\u001b[0m Trial 91 finished with value: 0.7856666431394692 and parameters: {'n_estimators': 956, 'max_depth': 22, 'min_samples_split': 7, 'min_samples_leaf': 1, 'max_features': 'log2'}. Best is trial 81 with value: 0.7989124552983248.\u001b[0m\n",
      "\u001b[32m[I 2023-06-19 21:31:14,168]\u001b[0m Trial 92 finished with value: 0.602238612836439 and parameters: {'n_estimators': 957, 'max_depth': 23, 'min_samples_split': 7, 'min_samples_leaf': 7, 'max_features': 'log2'}. Best is trial 81 with value: 0.7989124552983248.\u001b[0m\n"
     ]
    },
    {
     "name": "stderr",
     "output_type": "stream",
     "text": [
      "\u001b[32m[I 2023-06-19 21:31:22,258]\u001b[0m Trial 93 finished with value: 0.7874054990902817 and parameters: {'n_estimators': 905, 'max_depth': 22, 'min_samples_split': 8, 'min_samples_leaf': 1, 'max_features': 'log2'}. Best is trial 81 with value: 0.7989124552983248.\u001b[0m\n",
      "\u001b[32m[I 2023-06-19 21:31:30,093]\u001b[0m Trial 94 finished with value: 0.7628238910847607 and parameters: {'n_estimators': 902, 'max_depth': 22, 'min_samples_split': 8, 'min_samples_leaf': 1, 'max_features': 'log2'}. Best is trial 81 with value: 0.7989124552983248.\u001b[0m\n",
      "\u001b[32m[I 2023-06-19 21:31:39,454]\u001b[0m Trial 95 finished with value: 0.7709776334776335 and parameters: {'n_estimators': 977, 'max_depth': 25, 'min_samples_split': 8, 'min_samples_leaf': 1, 'max_features': 'log2'}. Best is trial 81 with value: 0.7989124552983248.\u001b[0m\n",
      "\u001b[32m[I 2023-06-19 21:31:43,184]\u001b[0m Trial 96 finished with value: 0.683689770374553 and parameters: {'n_estimators': 959, 'max_depth': 18, 'min_samples_split': 7, 'min_samples_leaf': 2, 'max_features': 'log2'}. Best is trial 81 with value: 0.7989124552983248.\u001b[0m\n",
      "\u001b[32m[I 2023-06-19 21:31:51,498]\u001b[0m Trial 97 finished with value: 0.7682704372921765 and parameters: {'n_estimators': 998, 'max_depth': 21, 'min_samples_split': 8, 'min_samples_leaf': 1, 'max_features': 'log2'}. Best is trial 81 with value: 0.7989124552983248.\u001b[0m\n",
      "\u001b[32m[I 2023-06-19 21:31:58,460]\u001b[0m Trial 98 finished with value: 0.7539331592320723 and parameters: {'n_estimators': 926, 'max_depth': 27, 'min_samples_split': 9, 'min_samples_leaf': 2, 'max_features': 'auto'}. Best is trial 81 with value: 0.7989124552983248.\u001b[0m\n",
      "\u001b[32m[I 2023-06-19 21:32:04,560]\u001b[0m Trial 99 finished with value: 0.7643590407177363 and parameters: {'n_estimators': 949, 'max_depth': 16, 'min_samples_split': 9, 'min_samples_leaf': 1, 'max_features': 'log2'}. Best is trial 81 with value: 0.7989124552983248.\u001b[0m\n"
     ]
    }
   ],
   "source": [
    "study = optuna.create_study(direction='maximize')\n",
    "study.optimize(objective, n_trials=100)"
   ]
  },
  {
   "cell_type": "markdown",
   "id": "8ea13f90",
   "metadata": {},
   "source": [
    "Обучим модель с использованием оптимальных гиперпараметров."
   ]
  },
  {
   "cell_type": "code",
   "execution_count": 59,
   "id": "afd97c7a",
   "metadata": {},
   "outputs": [
    {
     "data": {
      "text/plain": [
       "RandomForestClassifier(max_depth=24, max_features='log2', min_samples_split=6,\n",
       "                       n_estimators=996)"
      ]
     },
     "execution_count": 59,
     "metadata": {},
     "output_type": "execute_result"
    }
   ],
   "source": [
    "best_params = study.best_params\n",
    "best_model = RandomForestClassifier(**best_params)\n",
    "best_model.fit(X_train, y_train)"
   ]
  },
  {
   "cell_type": "code",
   "execution_count": 60,
   "id": "eb7185a0",
   "metadata": {},
   "outputs": [],
   "source": [
    "y_pred = best_model.predict(X_test)"
   ]
  },
  {
   "cell_type": "code",
   "execution_count": 61,
   "id": "79de91b9",
   "metadata": {},
   "outputs": [
    {
     "data": {
      "text/plain": [
       "0.8330357142857142"
      ]
     },
     "execution_count": 61,
     "metadata": {},
     "output_type": "execute_result"
    }
   ],
   "source": [
    "b_accuracy = balanced_accuracy_score(y_test, y_pred)\n",
    "b_accuracy"
   ]
  },
  {
   "cell_type": "code",
   "execution_count": 62,
   "id": "92630501",
   "metadata": {},
   "outputs": [
    {
     "data": {
      "image/png": "[encoded data removed]",
      "text/plain": [
       "<Figure size 1200x800 with 2 Axes>"
      ]
     },
     "metadata": {},
     "output_type": "display_data"
    }
   ],
   "source": [
    "fig, ax = plt.subplots(figsize=(12,8))\n",
    "cm = confusion_matrix(y_test, y_pred)\n",
    "cmp = ConfusionMatrixDisplay(cm, display_labels = model.classes_ )\n",
    "cmp.plot(ax=ax)\n",
    "plt.show()"
   ]
  },
  {
   "cell_type": "markdown",
   "id": "a531d083",
   "metadata": {},
   "source": [
    "Balanced accuracy равен 0,83, что лучше, чем у catboost."
   ]
  },
  {
   "cell_type": "code",
   "execution_count": 63,
   "id": "099ccc77",
   "metadata": {},
   "outputs": [],
   "source": [
    "y_pred_full = best_model.predict(X_full)"
   ]
  },
  {
   "cell_type": "code",
   "execution_count": 64,
   "id": "4e2f6538",
   "metadata": {},
   "outputs": [
    {
     "data": {
      "text/plain": [
       "0.7574923547400612"
      ]
     },
     "execution_count": 64,
     "metadata": {},
     "output_type": "execute_result"
    }
   ],
   "source": [
    "b_accuracy = balanced_accuracy_score(y_full, y_pred_full)\n",
    "b_accuracy"
   ]
  },
  {
   "cell_type": "code",
   "execution_count": 65,
   "id": "a304b885",
   "metadata": {},
   "outputs": [
    {
     "data": {
      "image/png": "[encoded data removed]",
      "text/plain": [
       "<Figure size 1200x800 with 2 Axes>"
      ]
     },
     "metadata": {},
     "output_type": "display_data"
    }
   ],
   "source": [
    "fig, ax = plt.subplots(figsize=(12,8))\n",
    "cm = confusion_matrix(y_full, y_pred_full)\n",
    "cmp = ConfusionMatrixDisplay(cm, display_labels = model.classes_ )\n",
    "cmp.plot(ax=ax)\n",
    "plt.show()"
   ]
  },
  {
   "cell_type": "markdown",
   "id": "ff2dc22e",
   "metadata": {},
   "source": [
    "На полных субтитрах результат немного ухудшился и оказался хуже, чем у CatBoost."
   ]
  },
  {
   "cell_type": "markdown",
   "id": "12a24813",
   "metadata": {},
   "source": [
    "### Вывод"
   ]
  },
  {
   "cell_type": "markdown",
   "id": "b1c8b838",
   "metadata": {},
   "source": [
    "В ходе работы были загружены данные. Фильмы с их оценками были выгружены из файла Excel, а субтитры в формате SRT были загружены с помощью `pysrt`.\n",
    "\n",
    "Была проведена предобработка и исследовательский анализ данных. В субтитрах были удалены HTML-ссылки, реклама, комментарии, знаки препинания и стоп-слова. Также была проведена лемматизация. Для решения проблемы дисбаланса классов и размера выборки субтитры были разделены на несколько частей.\n",
    "\n",
    "Были обучены модели CatBoost и случайного леса. Для данной задачи рекомендуется использовать модель CatBoost, так как ее balanced accuracy на полных субтитрах оказалась немного выше (0,79)."
   ]
  },
  {
   "cell_type": "code",
   "execution_count": null,
   "id": "dd62a707",
   "metadata": {},
   "outputs": [],
   "source": []
  }
 ],
 "metadata": {
  "kernelspec": {
   "display_name": "Python 3 (ipykernel)",
   "language": "python",
   "name": "python3"
  },
  "language_info": {
   "codemirror_mode": {
    "name": "ipython",
    "version": 3
   },
   "file_extension": ".py",
   "mimetype": "text/x-python",
   "name": "python",
   "nbconvert_exporter": "python",
   "pygments_lexer": "ipython3",
   "version": "3.9.13"
  },
  "toc": {
   "base_numbering": 1,
   "nav_menu": {},
   "number_sections": true,
   "sideBar": true,
   "skip_h1_title": true,
   "title_cell": "Table of Contents",
   "title_sidebar": "Contents",
   "toc_cell": false,
   "toc_position": {
    "height": "calc(100% - 180px)",
    "left": "10px",
    "top": "150px",
    "width": "303.837px"
   },
   "toc_section_display": true,
   "toc_window_display": true
  }
 },
 "nbformat": 4,
 "nbformat_minor": 5
}
